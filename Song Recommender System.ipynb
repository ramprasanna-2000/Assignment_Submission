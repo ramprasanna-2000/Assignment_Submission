{
 "cells": [
  {
   "cell_type": "markdown",
   "metadata": {},
   "source": [
    "Machine Learning Internship at IIT ISM (Dhanbad):\n",
    "\n",
    "Assignment-I (Exploratory Data Analysis)\n",
    "\n",
    "Completed by,\n",
    "\n",
    "      Ram Prasanna      \n",
    "      Gayathri Lakshmi\n",
    "      Kajal Tiwari\n",
    "      Sandeep\n",
    "      Sasi\n",
    "      Tharun \n",
    "      Asim Arbind Samal\n",
    "      Nandan\n",
    "      Gourav Garg\n",
    "      Kalyani\n",
    "      "
   ]
  },
  {
   "cell_type": "markdown",
   "metadata": {},
   "source": [
    "## Song Recommender System"
   ]
  },
  {
   "cell_type": "markdown",
   "metadata": {},
   "source": [
    "## The datasets used are available at: https://static.turi.com/datasets/millionsong/10000.txt and https://static.turi.com/datasets/millionsong/song_data.csv¶\n"
   ]
  },
  {
   "cell_type": "code",
   "execution_count": 21,
   "metadata": {},
   "outputs": [],
   "source": [
    "import pandas as pd\n",
    "import numpy as np\n",
    "import matplotlib.pyplot as plt\n",
    "import seaborn as sns\n",
    "import warnings\n",
    "warnings.filterwarnings('ignore')"
   ]
  },
  {
   "cell_type": "code",
   "execution_count": 2,
   "metadata": {},
   "outputs": [
    {
     "data": {
      "text/html": [
       "<div>\n",
       "<style scoped>\n",
       "    .dataframe tbody tr th:only-of-type {\n",
       "        vertical-align: middle;\n",
       "    }\n",
       "\n",
       "    .dataframe tbody tr th {\n",
       "        vertical-align: top;\n",
       "    }\n",
       "\n",
       "    .dataframe thead th {\n",
       "        text-align: right;\n",
       "    }\n",
       "</style>\n",
       "<table border=\"1\" class=\"dataframe\">\n",
       "  <thead>\n",
       "    <tr style=\"text-align: right;\">\n",
       "      <th></th>\n",
       "      <th>user_id</th>\n",
       "      <th>song_id</th>\n",
       "      <th>listen_count</th>\n",
       "    </tr>\n",
       "  </thead>\n",
       "  <tbody>\n",
       "    <tr>\n",
       "      <td>0</td>\n",
       "      <td>b80344d063b5ccb3212f76538f3d9e43d87dca9e</td>\n",
       "      <td>SOAKIMP12A8C130995</td>\n",
       "      <td>1</td>\n",
       "    </tr>\n",
       "    <tr>\n",
       "      <td>1</td>\n",
       "      <td>b80344d063b5ccb3212f76538f3d9e43d87dca9e</td>\n",
       "      <td>SOBBMDR12A8C13253B</td>\n",
       "      <td>2</td>\n",
       "    </tr>\n",
       "    <tr>\n",
       "      <td>2</td>\n",
       "      <td>b80344d063b5ccb3212f76538f3d9e43d87dca9e</td>\n",
       "      <td>SOBXHDL12A81C204C0</td>\n",
       "      <td>1</td>\n",
       "    </tr>\n",
       "    <tr>\n",
       "      <td>3</td>\n",
       "      <td>b80344d063b5ccb3212f76538f3d9e43d87dca9e</td>\n",
       "      <td>SOBYHAJ12A6701BF1D</td>\n",
       "      <td>1</td>\n",
       "    </tr>\n",
       "    <tr>\n",
       "      <td>4</td>\n",
       "      <td>b80344d063b5ccb3212f76538f3d9e43d87dca9e</td>\n",
       "      <td>SODACBL12A8C13C273</td>\n",
       "      <td>1</td>\n",
       "    </tr>\n",
       "  </tbody>\n",
       "</table>\n",
       "</div>"
      ],
      "text/plain": [
       "                                    user_id             song_id  listen_count\n",
       "0  b80344d063b5ccb3212f76538f3d9e43d87dca9e  SOAKIMP12A8C130995             1\n",
       "1  b80344d063b5ccb3212f76538f3d9e43d87dca9e  SOBBMDR12A8C13253B             2\n",
       "2  b80344d063b5ccb3212f76538f3d9e43d87dca9e  SOBXHDL12A81C204C0             1\n",
       "3  b80344d063b5ccb3212f76538f3d9e43d87dca9e  SOBYHAJ12A6701BF1D             1\n",
       "4  b80344d063b5ccb3212f76538f3d9e43d87dca9e  SODACBL12A8C13C273             1"
      ]
     },
     "execution_count": 2,
     "metadata": {},
     "output_type": "execute_result"
    }
   ],
   "source": [
    "df1=pd.read_csv(\"10000.txt\",header=None,sep='\\t')\n",
    "df1.columns = ['user_id', 'song_id', 'listen_count']\n",
    "df1.head()"
   ]
  },
  {
   "cell_type": "code",
   "execution_count": 3,
   "metadata": {},
   "outputs": [
    {
     "data": {
      "text/html": [
       "<div>\n",
       "<style scoped>\n",
       "    .dataframe tbody tr th:only-of-type {\n",
       "        vertical-align: middle;\n",
       "    }\n",
       "\n",
       "    .dataframe tbody tr th {\n",
       "        vertical-align: top;\n",
       "    }\n",
       "\n",
       "    .dataframe thead th {\n",
       "        text-align: right;\n",
       "    }\n",
       "</style>\n",
       "<table border=\"1\" class=\"dataframe\">\n",
       "  <thead>\n",
       "    <tr style=\"text-align: right;\">\n",
       "      <th></th>\n",
       "      <th>song_id</th>\n",
       "      <th>title</th>\n",
       "      <th>release</th>\n",
       "      <th>artist_name</th>\n",
       "      <th>year</th>\n",
       "    </tr>\n",
       "  </thead>\n",
       "  <tbody>\n",
       "    <tr>\n",
       "      <td>0</td>\n",
       "      <td>SOQMMHC12AB0180CB8</td>\n",
       "      <td>Silent Night</td>\n",
       "      <td>Monster Ballads X-Mas</td>\n",
       "      <td>Faster Pussy cat</td>\n",
       "      <td>2003</td>\n",
       "    </tr>\n",
       "    <tr>\n",
       "      <td>1</td>\n",
       "      <td>SOVFVAK12A8C1350D9</td>\n",
       "      <td>Tanssi vaan</td>\n",
       "      <td>Karkuteillä</td>\n",
       "      <td>Karkkiautomaatti</td>\n",
       "      <td>1995</td>\n",
       "    </tr>\n",
       "    <tr>\n",
       "      <td>2</td>\n",
       "      <td>SOGTUKN12AB017F4F1</td>\n",
       "      <td>No One Could Ever</td>\n",
       "      <td>Butter</td>\n",
       "      <td>Hudson Mohawke</td>\n",
       "      <td>2006</td>\n",
       "    </tr>\n",
       "    <tr>\n",
       "      <td>3</td>\n",
       "      <td>SOBNYVR12A8C13558C</td>\n",
       "      <td>Si Vos Querés</td>\n",
       "      <td>De Culo</td>\n",
       "      <td>Yerba Brava</td>\n",
       "      <td>2003</td>\n",
       "    </tr>\n",
       "    <tr>\n",
       "      <td>4</td>\n",
       "      <td>SOHSBXH12A8C13B0DF</td>\n",
       "      <td>Tangle Of Aspens</td>\n",
       "      <td>Rene Ablaze Presents Winter Sessions</td>\n",
       "      <td>Der Mystic</td>\n",
       "      <td>0</td>\n",
       "    </tr>\n",
       "  </tbody>\n",
       "</table>\n",
       "</div>"
      ],
      "text/plain": [
       "              song_id              title  \\\n",
       "0  SOQMMHC12AB0180CB8       Silent Night   \n",
       "1  SOVFVAK12A8C1350D9        Tanssi vaan   \n",
       "2  SOGTUKN12AB017F4F1  No One Could Ever   \n",
       "3  SOBNYVR12A8C13558C      Si Vos Querés   \n",
       "4  SOHSBXH12A8C13B0DF   Tangle Of Aspens   \n",
       "\n",
       "                                release       artist_name  year  \n",
       "0                 Monster Ballads X-Mas  Faster Pussy cat  2003  \n",
       "1                           Karkuteillä  Karkkiautomaatti  1995  \n",
       "2                                Butter    Hudson Mohawke  2006  \n",
       "3                               De Culo       Yerba Brava  2003  \n",
       "4  Rene Ablaze Presents Winter Sessions        Der Mystic     0  "
      ]
     },
     "execution_count": 3,
     "metadata": {},
     "output_type": "execute_result"
    }
   ],
   "source": [
    "df2=pd.read_csv(\"song_data.csv\")\n",
    "df2.drop_duplicates(['song_id'])\n",
    "df2.head()"
   ]
  },
  {
   "cell_type": "markdown",
   "metadata": {},
   "source": [
    "## Analysis:"
   ]
  },
  {
   "cell_type": "code",
   "execution_count": 4,
   "metadata": {},
   "outputs": [
    {
     "name": "stdout",
     "output_type": "stream",
     "text": [
      "Song_data shape: (1000000, 5)\n",
      "User_listen shape: (2000000, 3)\n"
     ]
    }
   ],
   "source": [
    "print(\"Song_data shape:\",df2.shape)\n",
    "print(\"User_listen shape:\",df1.shape)"
   ]
  },
  {
   "cell_type": "code",
   "execution_count": 5,
   "metadata": {},
   "outputs": [
    {
     "name": "stdout",
     "output_type": "stream",
     "text": [
      "<class 'pandas.core.frame.DataFrame'>\n",
      "Int64Index: 2000000 entries, 0 to 1999999\n",
      "Data columns (total 3 columns):\n",
      "user_id         object\n",
      "song_id         object\n",
      "listen_count    int64\n",
      "dtypes: int64(1), object(2)\n",
      "memory usage: 61.0+ MB\n"
     ]
    }
   ],
   "source": [
    "df1.dropna(inplace=True)\n",
    "df1.info()"
   ]
  },
  {
   "cell_type": "code",
   "execution_count": 6,
   "metadata": {},
   "outputs": [
    {
     "name": "stdout",
     "output_type": "stream",
     "text": [
      "<class 'pandas.core.frame.DataFrame'>\n",
      "Int64Index: 999980 entries, 0 to 999999\n",
      "Data columns (total 5 columns):\n",
      "song_id        999980 non-null object\n",
      "title          999980 non-null object\n",
      "release        999980 non-null object\n",
      "artist_name    999980 non-null object\n",
      "year           999980 non-null int64\n",
      "dtypes: int64(1), object(4)\n",
      "memory usage: 45.8+ MB\n"
     ]
    }
   ],
   "source": [
    "df2.dropna(inplace=True)\n",
    "df2.info()"
   ]
  },
  {
   "cell_type": "code",
   "execution_count": 7,
   "metadata": {},
   "outputs": [
    {
     "data": {
      "text/plain": [
       "song_id\n",
       "SOAAAGQ12A8C1420C8     66\n",
       "SOAACPJ12A81C21360    147\n",
       "SOAACSG12AB018DC80     67\n",
       "SOAAEJI12AB0188AB5     62\n",
       "SOAAFAC12A67ADF7EB    190\n",
       "Name: user_id, dtype: int64"
      ]
     },
     "execution_count": 7,
     "metadata": {},
     "output_type": "execute_result"
    }
   ],
   "source": [
    "df3=df1.groupby('song_id').user_id.count()\n",
    "df3.head()"
   ]
  },
  {
   "cell_type": "code",
   "execution_count": 8,
   "metadata": {},
   "outputs": [
    {
     "data": {
      "text/plain": [
       "count    10000.000000\n",
       "mean       200.000000\n",
       "std        317.715673\n",
       "min         48.000000\n",
       "25%         89.000000\n",
       "50%        124.000000\n",
       "75%        201.000000\n",
       "max       8277.000000\n",
       "Name: user_id, dtype: float64"
      ]
     },
     "execution_count": 8,
     "metadata": {},
     "output_type": "execute_result"
    }
   ],
   "source": [
    "df3.describe()"
   ]
  },
  {
   "cell_type": "code",
   "execution_count": 9,
   "metadata": {},
   "outputs": [
    {
     "data": {
      "text/plain": [
       "song_id\n",
       "SOAAAGQ12A8C1420C8    227\n",
       "SOAACPJ12A81C21360    352\n",
       "SOAACSG12AB018DC80    158\n",
       "SOAAEJI12AB0188AB5    131\n",
       "SOAAFAC12A67ADF7EB    405\n",
       "Name: listen_count, dtype: int64"
      ]
     },
     "execution_count": 9,
     "metadata": {},
     "output_type": "execute_result"
    }
   ],
   "source": [
    "df4=df1.groupby('song_id').listen_count.sum()\n",
    "df4.head()"
   ]
  },
  {
   "cell_type": "code",
   "execution_count": 10,
   "metadata": {},
   "outputs": [
    {
     "data": {
      "text/plain": [
       "count    10000.000000\n",
       "mean       609.096900\n",
       "std       1401.268442\n",
       "min         71.000000\n",
       "25%        221.000000\n",
       "50%        336.000000\n",
       "75%        587.000000\n",
       "max      54136.000000\n",
       "Name: listen_count, dtype: float64"
      ]
     },
     "execution_count": 10,
     "metadata": {},
     "output_type": "execute_result"
    }
   ],
   "source": [
    "\n",
    "df4.describe()"
   ]
  },
  {
   "cell_type": "code",
   "execution_count": 11,
   "metadata": {},
   "outputs": [
    {
     "data": {
      "text/html": [
       "<div>\n",
       "<style scoped>\n",
       "    .dataframe tbody tr th:only-of-type {\n",
       "        vertical-align: middle;\n",
       "    }\n",
       "\n",
       "    .dataframe tbody tr th {\n",
       "        vertical-align: top;\n",
       "    }\n",
       "\n",
       "    .dataframe thead th {\n",
       "        text-align: right;\n",
       "    }\n",
       "</style>\n",
       "<table border=\"1\" class=\"dataframe\">\n",
       "  <thead>\n",
       "    <tr style=\"text-align: right;\">\n",
       "      <th></th>\n",
       "      <th>user_id</th>\n",
       "      <th>song_id</th>\n",
       "      <th>listen_count</th>\n",
       "      <th>title</th>\n",
       "      <th>release</th>\n",
       "      <th>artist_name</th>\n",
       "      <th>year</th>\n",
       "    </tr>\n",
       "  </thead>\n",
       "  <tbody>\n",
       "    <tr>\n",
       "      <td>0</td>\n",
       "      <td>b80344d063b5ccb3212f76538f3d9e43d87dca9e</td>\n",
       "      <td>SOAKIMP12A8C130995</td>\n",
       "      <td>1</td>\n",
       "      <td>The Cove</td>\n",
       "      <td>Thicker Than Water</td>\n",
       "      <td>Jack Johnson</td>\n",
       "      <td>0</td>\n",
       "    </tr>\n",
       "    <tr>\n",
       "      <td>1</td>\n",
       "      <td>7c86176941718984fed11b7c0674ff04c029b480</td>\n",
       "      <td>SOAKIMP12A8C130995</td>\n",
       "      <td>1</td>\n",
       "      <td>The Cove</td>\n",
       "      <td>Thicker Than Water</td>\n",
       "      <td>Jack Johnson</td>\n",
       "      <td>0</td>\n",
       "    </tr>\n",
       "    <tr>\n",
       "      <td>2</td>\n",
       "      <td>76235885b32c4e8c82760c340dc54f9b608d7d7e</td>\n",
       "      <td>SOAKIMP12A8C130995</td>\n",
       "      <td>3</td>\n",
       "      <td>The Cove</td>\n",
       "      <td>Thicker Than Water</td>\n",
       "      <td>Jack Johnson</td>\n",
       "      <td>0</td>\n",
       "    </tr>\n",
       "    <tr>\n",
       "      <td>3</td>\n",
       "      <td>250c0fa2a77bc6695046e7c47882ecd85c42d748</td>\n",
       "      <td>SOAKIMP12A8C130995</td>\n",
       "      <td>1</td>\n",
       "      <td>The Cove</td>\n",
       "      <td>Thicker Than Water</td>\n",
       "      <td>Jack Johnson</td>\n",
       "      <td>0</td>\n",
       "    </tr>\n",
       "    <tr>\n",
       "      <td>4</td>\n",
       "      <td>3f73f44560e822344b0fb7c6b463869743eb9860</td>\n",
       "      <td>SOAKIMP12A8C130995</td>\n",
       "      <td>6</td>\n",
       "      <td>The Cove</td>\n",
       "      <td>Thicker Than Water</td>\n",
       "      <td>Jack Johnson</td>\n",
       "      <td>0</td>\n",
       "    </tr>\n",
       "  </tbody>\n",
       "</table>\n",
       "</div>"
      ],
      "text/plain": [
       "                                    user_id             song_id  listen_count  \\\n",
       "0  b80344d063b5ccb3212f76538f3d9e43d87dca9e  SOAKIMP12A8C130995             1   \n",
       "1  7c86176941718984fed11b7c0674ff04c029b480  SOAKIMP12A8C130995             1   \n",
       "2  76235885b32c4e8c82760c340dc54f9b608d7d7e  SOAKIMP12A8C130995             3   \n",
       "3  250c0fa2a77bc6695046e7c47882ecd85c42d748  SOAKIMP12A8C130995             1   \n",
       "4  3f73f44560e822344b0fb7c6b463869743eb9860  SOAKIMP12A8C130995             6   \n",
       "\n",
       "      title             release   artist_name  year  \n",
       "0  The Cove  Thicker Than Water  Jack Johnson     0  \n",
       "1  The Cove  Thicker Than Water  Jack Johnson     0  \n",
       "2  The Cove  Thicker Than Water  Jack Johnson     0  \n",
       "3  The Cove  Thicker Than Water  Jack Johnson     0  \n",
       "4  The Cove  Thicker Than Water  Jack Johnson     0  "
      ]
     },
     "execution_count": 11,
     "metadata": {},
     "output_type": "execute_result"
    }
   ],
   "source": [
    "\n",
    "df=pd.merge(df1,df2,on=\"song_id\")\n",
    "df.head()"
   ]
  },
  {
   "cell_type": "code",
   "execution_count": 13,
   "metadata": {},
   "outputs": [
    {
     "data": {
      "text/plain": [
       "title\n",
       "221                                18.158228\n",
       "Starshine                          16.891892\n",
       "Crack Under Pressure               16.037500\n",
       "The Quest                          15.976000\n",
       "Clara meets Slope - Hard To Say    15.171756\n",
       "Name: listen_count, dtype: float64"
      ]
     },
     "execution_count": 13,
     "metadata": {},
     "output_type": "execute_result"
    }
   ],
   "source": [
    "df.groupby('title')['listen_count'].mean().sort_values(ascending=False).head()"
   ]
  },
  {
   "cell_type": "code",
   "execution_count": 14,
   "metadata": {},
   "outputs": [
    {
     "data": {
      "text/plain": [
       "title\n",
       "Sehr kosmisch                     8277\n",
       "Use Somebody                      7952\n",
       "Undo                              7032\n",
       "Dog Days Are Over (Radio Edit)    6949\n",
       "You're The One                    6729\n",
       "Name: listen_count, dtype: int64"
      ]
     },
     "execution_count": 14,
     "metadata": {},
     "output_type": "execute_result"
    }
   ],
   "source": [
    "df.groupby('title')['listen_count'].count().sort_values(ascending=False).head()"
   ]
  },
  {
   "cell_type": "code",
   "execution_count": 15,
   "metadata": {},
   "outputs": [],
   "source": [
    "listenCount=pd.DataFrame(df.groupby('title')['listen_count'].mean())"
   ]
  },
  {
   "cell_type": "code",
   "execution_count": 16,
   "metadata": {},
   "outputs": [],
   "source": [
    "listenCount['num_of-listeners']=df.groupby('title')['listen_count'].count()"
   ]
  },
  {
   "cell_type": "code",
   "execution_count": 17,
   "metadata": {},
   "outputs": [
    {
     "data": {
      "text/html": [
       "<div>\n",
       "<style scoped>\n",
       "    .dataframe tbody tr th:only-of-type {\n",
       "        vertical-align: middle;\n",
       "    }\n",
       "\n",
       "    .dataframe tbody tr th {\n",
       "        vertical-align: top;\n",
       "    }\n",
       "\n",
       "    .dataframe thead th {\n",
       "        text-align: right;\n",
       "    }\n",
       "</style>\n",
       "<table border=\"1\" class=\"dataframe\">\n",
       "  <thead>\n",
       "    <tr style=\"text-align: right;\">\n",
       "      <th></th>\n",
       "      <th>listen_count</th>\n",
       "      <th>num_of-listeners</th>\n",
       "    </tr>\n",
       "    <tr>\n",
       "      <th>title</th>\n",
       "      <th></th>\n",
       "      <th></th>\n",
       "    </tr>\n",
       "  </thead>\n",
       "  <tbody>\n",
       "    <tr>\n",
       "      <td>#!*@ You Tonight [Featuring R. Kelly] (Explicit Album Version)</td>\n",
       "      <td>1.897436</td>\n",
       "      <td>78</td>\n",
       "    </tr>\n",
       "    <tr>\n",
       "      <td>#40</td>\n",
       "      <td>5.417160</td>\n",
       "      <td>338</td>\n",
       "    </tr>\n",
       "    <tr>\n",
       "      <td>&amp; Down</td>\n",
       "      <td>1.981233</td>\n",
       "      <td>373</td>\n",
       "    </tr>\n",
       "    <tr>\n",
       "      <td>' Cello Song</td>\n",
       "      <td>2.466019</td>\n",
       "      <td>103</td>\n",
       "    </tr>\n",
       "    <tr>\n",
       "      <td>'97 Bonnie &amp; Clyde</td>\n",
       "      <td>1.505376</td>\n",
       "      <td>93</td>\n",
       "    </tr>\n",
       "  </tbody>\n",
       "</table>\n",
       "</div>"
      ],
      "text/plain": [
       "                                                    listen_count  \\\n",
       "title                                                              \n",
       "#!*@ You Tonight [Featuring R. Kelly] (Explicit...      1.897436   \n",
       "#40                                                     5.417160   \n",
       "& Down                                                  1.981233   \n",
       "' Cello Song                                            2.466019   \n",
       "'97 Bonnie & Clyde                                      1.505376   \n",
       "\n",
       "                                                    num_of-listeners  \n",
       "title                                                                 \n",
       "#!*@ You Tonight [Featuring R. Kelly] (Explicit...                78  \n",
       "#40                                                              338  \n",
       "& Down                                                           373  \n",
       "' Cello Song                                                     103  \n",
       "'97 Bonnie & Clyde                                                93  "
      ]
     },
     "execution_count": 17,
     "metadata": {},
     "output_type": "execute_result"
    }
   ],
   "source": [
    "listenCount.head()"
   ]
  },
  {
   "cell_type": "code",
   "execution_count": 18,
   "metadata": {},
   "outputs": [
    {
     "data": {
      "text/plain": [
       "count    9593.000000\n",
       "mean      217.548838\n",
       "std       361.615180\n",
       "min        48.000000\n",
       "25%        90.000000\n",
       "50%       129.000000\n",
       "75%       215.000000\n",
       "max      8277.000000\n",
       "Name: num_of-listeners, dtype: float64"
      ]
     },
     "execution_count": 18,
     "metadata": {},
     "output_type": "execute_result"
    }
   ],
   "source": [
    "listenCount['num_of-listeners'].describe()"
   ]
  },
  {
   "cell_type": "code",
   "execution_count": 19,
   "metadata": {},
   "outputs": [
    {
     "data": {
      "text/plain": [
       "<matplotlib.axes._subplots.AxesSubplot at 0x24442b34988>"
      ]
     },
     "execution_count": 19,
     "metadata": {},
     "output_type": "execute_result"
    },
    {
     "data": {
      "image/png": "[encoded data removed]",
      "text/plain": [
       "<Figure size 432x288 with 1 Axes>"
      ]
     },
     "metadata": {
      "needs_background": "light"
     },
     "output_type": "display_data"
    }
   ],
   "source": [
    "listenCount['num_of-listeners'].hist(bins=45)"
   ]
  },
  {
   "cell_type": "code",
   "execution_count": 20,
   "metadata": {},
   "outputs": [
    {
     "data": {
      "text/plain": [
       "<matplotlib.axes._subplots.AxesSubplot at 0x24442c8b508>"
      ]
     },
     "execution_count": 20,
     "metadata": {},
     "output_type": "execute_result"
    },
    {
     "data": {
      "image/png": "[encoded data removed]",
      "text/plain": [
       "<Figure size 432x288 with 1 Axes>"
      ]
     },
     "metadata": {
      "needs_background": "light"
     },
     "output_type": "display_data"
    }
   ],
   "source": [
    "\n",
    "listenCount['listen_count'].hist(bins=70)"
   ]
  },
  {
   "cell_type": "code",
   "execution_count": 22,
   "metadata": {},
   "outputs": [
    {
     "data": {
      "text/html": [
       "<div>\n",
       "<style scoped>\n",
       "    .dataframe tbody tr th:only-of-type {\n",
       "        vertical-align: middle;\n",
       "    }\n",
       "\n",
       "    .dataframe tbody tr th {\n",
       "        vertical-align: top;\n",
       "    }\n",
       "\n",
       "    .dataframe thead th {\n",
       "        text-align: right;\n",
       "    }\n",
       "</style>\n",
       "<table border=\"1\" class=\"dataframe\">\n",
       "  <thead>\n",
       "    <tr style=\"text-align: right;\">\n",
       "      <th></th>\n",
       "      <th>listen_count</th>\n",
       "      <th>num_of-listeners</th>\n",
       "    </tr>\n",
       "    <tr>\n",
       "      <th>title</th>\n",
       "      <th></th>\n",
       "      <th></th>\n",
       "    </tr>\n",
       "  </thead>\n",
       "  <tbody>\n",
       "    <tr>\n",
       "      <td>Sehr kosmisch</td>\n",
       "      <td>3.749668</td>\n",
       "      <td>8277</td>\n",
       "    </tr>\n",
       "    <tr>\n",
       "      <td>Use Somebody</td>\n",
       "      <td>2.784205</td>\n",
       "      <td>7952</td>\n",
       "    </tr>\n",
       "    <tr>\n",
       "      <td>Undo</td>\n",
       "      <td>7.004124</td>\n",
       "      <td>7032</td>\n",
       "    </tr>\n",
       "    <tr>\n",
       "      <td>Dog Days Are Over (Radio Edit)</td>\n",
       "      <td>3.836955</td>\n",
       "      <td>6949</td>\n",
       "    </tr>\n",
       "    <tr>\n",
       "      <td>You're The One</td>\n",
       "      <td>8.160945</td>\n",
       "      <td>6729</td>\n",
       "    </tr>\n",
       "    <tr>\n",
       "      <td>Revelry</td>\n",
       "      <td>6.740114</td>\n",
       "      <td>6145</td>\n",
       "    </tr>\n",
       "    <tr>\n",
       "      <td>Secrets</td>\n",
       "      <td>3.783599</td>\n",
       "      <td>5841</td>\n",
       "    </tr>\n",
       "    <tr>\n",
       "      <td>Somebody To Love</td>\n",
       "      <td>3.177237</td>\n",
       "      <td>5676</td>\n",
       "    </tr>\n",
       "    <tr>\n",
       "      <td>Yellow</td>\n",
       "      <td>2.758572</td>\n",
       "      <td>5658</td>\n",
       "    </tr>\n",
       "    <tr>\n",
       "      <td>Horn Concerto No. 4 in E flat K495: II. Romance (Andante cantabile)</td>\n",
       "      <td>5.785144</td>\n",
       "      <td>5385</td>\n",
       "    </tr>\n",
       "  </tbody>\n",
       "</table>\n",
       "</div>"
      ],
      "text/plain": [
       "                                                    listen_count  \\\n",
       "title                                                              \n",
       "Sehr kosmisch                                           3.749668   \n",
       "Use Somebody                                            2.784205   \n",
       "Undo                                                    7.004124   \n",
       "Dog Days Are Over (Radio Edit)                          3.836955   \n",
       "You're The One                                          8.160945   \n",
       "Revelry                                                 6.740114   \n",
       "Secrets                                                 3.783599   \n",
       "Somebody To Love                                        3.177237   \n",
       "Yellow                                                  2.758572   \n",
       "Horn Concerto No. 4 in E flat K495: II. Romance...      5.785144   \n",
       "\n",
       "                                                    num_of-listeners  \n",
       "title                                                                 \n",
       "Sehr kosmisch                                                   8277  \n",
       "Use Somebody                                                    7952  \n",
       "Undo                                                            7032  \n",
       "Dog Days Are Over (Radio Edit)                                  6949  \n",
       "You're The One                                                  6729  \n",
       "Revelry                                                         6145  \n",
       "Secrets                                                         5841  \n",
       "Somebody To Love                                                5676  \n",
       "Yellow                                                          5658  \n",
       "Horn Concerto No. 4 in E flat K495: II. Romance...              5385  "
      ]
     },
     "execution_count": 22,
     "metadata": {},
     "output_type": "execute_result"
    }
   ],
   "source": [
    "listenCount.sort_values('num_of-listeners',ascending=False).head(10)"
   ]
  },
  {
   "cell_type": "markdown",
   "metadata": {},
   "source": [
    "## Creating Pivot Table:"
   ]
  },
  {
   "cell_type": "code",
   "execution_count": 23,
   "metadata": {},
   "outputs": [
    {
     "data": {
      "text/html": [
       "<div>\n",
       "<style scoped>\n",
       "    .dataframe tbody tr th:only-of-type {\n",
       "        vertical-align: middle;\n",
       "    }\n",
       "\n",
       "    .dataframe tbody tr th {\n",
       "        vertical-align: top;\n",
       "    }\n",
       "\n",
       "    .dataframe thead th {\n",
       "        text-align: right;\n",
       "    }\n",
       "</style>\n",
       "<table border=\"1\" class=\"dataframe\">\n",
       "  <thead>\n",
       "    <tr style=\"text-align: right;\">\n",
       "      <th>title</th>\n",
       "      <th>#!*@ You Tonight [Featuring R. Kelly] (Explicit Album Version)</th>\n",
       "      <th>#40</th>\n",
       "      <th>&amp; Down</th>\n",
       "      <th>' Cello Song</th>\n",
       "      <th>'97 Bonnie &amp; Clyde</th>\n",
       "      <th>'Round Midnight</th>\n",
       "      <th>'Til We Die (Album Version)</th>\n",
       "      <th>'Till I Collapse</th>\n",
       "      <th>('Til) I Kissed You</th>\n",
       "      <th>(Anaesthesia) Pulling Teath</th>\n",
       "      <th>...</th>\n",
       "      <th>sillyworld (Album Version)</th>\n",
       "      <th>sleep_ eat food_ have visions</th>\n",
       "      <th>smile around the face</th>\n",
       "      <th>sun drums and soil</th>\n",
       "      <th>teachme (Album Version)</th>\n",
       "      <th>the Love Song</th>\n",
       "      <th>you were there with me</th>\n",
       "      <th>¡Viva La Gloria! (Album Version)</th>\n",
       "      <th>¿Lo Ves? [Piano Y Voz]</th>\n",
       "      <th>Época</th>\n",
       "    </tr>\n",
       "    <tr>\n",
       "      <th>user_id</th>\n",
       "      <th></th>\n",
       "      <th></th>\n",
       "      <th></th>\n",
       "      <th></th>\n",
       "      <th></th>\n",
       "      <th></th>\n",
       "      <th></th>\n",
       "      <th></th>\n",
       "      <th></th>\n",
       "      <th></th>\n",
       "      <th></th>\n",
       "      <th></th>\n",
       "      <th></th>\n",
       "      <th></th>\n",
       "      <th></th>\n",
       "      <th></th>\n",
       "      <th></th>\n",
       "      <th></th>\n",
       "      <th></th>\n",
       "      <th></th>\n",
       "      <th></th>\n",
       "    </tr>\n",
       "  </thead>\n",
       "  <tbody>\n",
       "    <tr>\n",
       "      <td>00003a4459f33b92906be11abe0e93efc423c0ff</td>\n",
       "      <td>NaN</td>\n",
       "      <td>NaN</td>\n",
       "      <td>NaN</td>\n",
       "      <td>NaN</td>\n",
       "      <td>NaN</td>\n",
       "      <td>NaN</td>\n",
       "      <td>NaN</td>\n",
       "      <td>NaN</td>\n",
       "      <td>NaN</td>\n",
       "      <td>NaN</td>\n",
       "      <td>...</td>\n",
       "      <td>NaN</td>\n",
       "      <td>NaN</td>\n",
       "      <td>NaN</td>\n",
       "      <td>NaN</td>\n",
       "      <td>NaN</td>\n",
       "      <td>NaN</td>\n",
       "      <td>NaN</td>\n",
       "      <td>NaN</td>\n",
       "      <td>NaN</td>\n",
       "      <td>NaN</td>\n",
       "    </tr>\n",
       "    <tr>\n",
       "      <td>00005c6177188f12fb5e2e82cdbd93e8a3f35e64</td>\n",
       "      <td>NaN</td>\n",
       "      <td>NaN</td>\n",
       "      <td>NaN</td>\n",
       "      <td>NaN</td>\n",
       "      <td>NaN</td>\n",
       "      <td>NaN</td>\n",
       "      <td>NaN</td>\n",
       "      <td>NaN</td>\n",
       "      <td>NaN</td>\n",
       "      <td>NaN</td>\n",
       "      <td>...</td>\n",
       "      <td>NaN</td>\n",
       "      <td>NaN</td>\n",
       "      <td>NaN</td>\n",
       "      <td>NaN</td>\n",
       "      <td>NaN</td>\n",
       "      <td>NaN</td>\n",
       "      <td>NaN</td>\n",
       "      <td>NaN</td>\n",
       "      <td>NaN</td>\n",
       "      <td>NaN</td>\n",
       "    </tr>\n",
       "    <tr>\n",
       "      <td>00030033e3a2f904a48ec1dd53019c9969b6ef1f</td>\n",
       "      <td>NaN</td>\n",
       "      <td>NaN</td>\n",
       "      <td>NaN</td>\n",
       "      <td>NaN</td>\n",
       "      <td>NaN</td>\n",
       "      <td>NaN</td>\n",
       "      <td>NaN</td>\n",
       "      <td>NaN</td>\n",
       "      <td>NaN</td>\n",
       "      <td>NaN</td>\n",
       "      <td>...</td>\n",
       "      <td>NaN</td>\n",
       "      <td>NaN</td>\n",
       "      <td>NaN</td>\n",
       "      <td>NaN</td>\n",
       "      <td>NaN</td>\n",
       "      <td>NaN</td>\n",
       "      <td>NaN</td>\n",
       "      <td>NaN</td>\n",
       "      <td>NaN</td>\n",
       "      <td>NaN</td>\n",
       "    </tr>\n",
       "    <tr>\n",
       "      <td>0007235c769e610e3d339a17818a5708e41008d9</td>\n",
       "      <td>NaN</td>\n",
       "      <td>NaN</td>\n",
       "      <td>NaN</td>\n",
       "      <td>NaN</td>\n",
       "      <td>NaN</td>\n",
       "      <td>NaN</td>\n",
       "      <td>NaN</td>\n",
       "      <td>NaN</td>\n",
       "      <td>NaN</td>\n",
       "      <td>NaN</td>\n",
       "      <td>...</td>\n",
       "      <td>NaN</td>\n",
       "      <td>NaN</td>\n",
       "      <td>NaN</td>\n",
       "      <td>NaN</td>\n",
       "      <td>NaN</td>\n",
       "      <td>NaN</td>\n",
       "      <td>NaN</td>\n",
       "      <td>NaN</td>\n",
       "      <td>NaN</td>\n",
       "      <td>NaN</td>\n",
       "    </tr>\n",
       "    <tr>\n",
       "      <td>0007c0e74728ca9ef0fe4eb7f75732e8026a278b</td>\n",
       "      <td>NaN</td>\n",
       "      <td>NaN</td>\n",
       "      <td>NaN</td>\n",
       "      <td>NaN</td>\n",
       "      <td>NaN</td>\n",
       "      <td>NaN</td>\n",
       "      <td>NaN</td>\n",
       "      <td>NaN</td>\n",
       "      <td>NaN</td>\n",
       "      <td>NaN</td>\n",
       "      <td>...</td>\n",
       "      <td>NaN</td>\n",
       "      <td>NaN</td>\n",
       "      <td>NaN</td>\n",
       "      <td>NaN</td>\n",
       "      <td>NaN</td>\n",
       "      <td>NaN</td>\n",
       "      <td>NaN</td>\n",
       "      <td>NaN</td>\n",
       "      <td>NaN</td>\n",
       "      <td>NaN</td>\n",
       "    </tr>\n",
       "  </tbody>\n",
       "</table>\n",
       "<p>5 rows × 9593 columns</p>\n",
       "</div>"
      ],
      "text/plain": [
       "title                                     #!*@ You Tonight [Featuring R. Kelly] (Explicit Album Version)  \\\n",
       "user_id                                                                                                    \n",
       "00003a4459f33b92906be11abe0e93efc423c0ff                                                NaN                \n",
       "00005c6177188f12fb5e2e82cdbd93e8a3f35e64                                                NaN                \n",
       "00030033e3a2f904a48ec1dd53019c9969b6ef1f                                                NaN                \n",
       "0007235c769e610e3d339a17818a5708e41008d9                                                NaN                \n",
       "0007c0e74728ca9ef0fe4eb7f75732e8026a278b                                                NaN                \n",
       "\n",
       "title                                     #40  & Down  ' Cello Song  \\\n",
       "user_id                                                               \n",
       "00003a4459f33b92906be11abe0e93efc423c0ff  NaN     NaN           NaN   \n",
       "00005c6177188f12fb5e2e82cdbd93e8a3f35e64  NaN     NaN           NaN   \n",
       "00030033e3a2f904a48ec1dd53019c9969b6ef1f  NaN     NaN           NaN   \n",
       "0007235c769e610e3d339a17818a5708e41008d9  NaN     NaN           NaN   \n",
       "0007c0e74728ca9ef0fe4eb7f75732e8026a278b  NaN     NaN           NaN   \n",
       "\n",
       "title                                     '97 Bonnie & Clyde  'Round Midnight  \\\n",
       "user_id                                                                         \n",
       "00003a4459f33b92906be11abe0e93efc423c0ff                 NaN              NaN   \n",
       "00005c6177188f12fb5e2e82cdbd93e8a3f35e64                 NaN              NaN   \n",
       "00030033e3a2f904a48ec1dd53019c9969b6ef1f                 NaN              NaN   \n",
       "0007235c769e610e3d339a17818a5708e41008d9                 NaN              NaN   \n",
       "0007c0e74728ca9ef0fe4eb7f75732e8026a278b                 NaN              NaN   \n",
       "\n",
       "title                                     'Til We Die (Album Version)  \\\n",
       "user_id                                                                 \n",
       "00003a4459f33b92906be11abe0e93efc423c0ff                          NaN   \n",
       "00005c6177188f12fb5e2e82cdbd93e8a3f35e64                          NaN   \n",
       "00030033e3a2f904a48ec1dd53019c9969b6ef1f                          NaN   \n",
       "0007235c769e610e3d339a17818a5708e41008d9                          NaN   \n",
       "0007c0e74728ca9ef0fe4eb7f75732e8026a278b                          NaN   \n",
       "\n",
       "title                                     'Till I Collapse  \\\n",
       "user_id                                                      \n",
       "00003a4459f33b92906be11abe0e93efc423c0ff               NaN   \n",
       "00005c6177188f12fb5e2e82cdbd93e8a3f35e64               NaN   \n",
       "00030033e3a2f904a48ec1dd53019c9969b6ef1f               NaN   \n",
       "0007235c769e610e3d339a17818a5708e41008d9               NaN   \n",
       "0007c0e74728ca9ef0fe4eb7f75732e8026a278b               NaN   \n",
       "\n",
       "title                                     ('Til) I Kissed You  \\\n",
       "user_id                                                         \n",
       "00003a4459f33b92906be11abe0e93efc423c0ff                  NaN   \n",
       "00005c6177188f12fb5e2e82cdbd93e8a3f35e64                  NaN   \n",
       "00030033e3a2f904a48ec1dd53019c9969b6ef1f                  NaN   \n",
       "0007235c769e610e3d339a17818a5708e41008d9                  NaN   \n",
       "0007c0e74728ca9ef0fe4eb7f75732e8026a278b                  NaN   \n",
       "\n",
       "title                                     (Anaesthesia) Pulling Teath  ...  \\\n",
       "user_id                                                                ...   \n",
       "00003a4459f33b92906be11abe0e93efc423c0ff                          NaN  ...   \n",
       "00005c6177188f12fb5e2e82cdbd93e8a3f35e64                          NaN  ...   \n",
       "00030033e3a2f904a48ec1dd53019c9969b6ef1f                          NaN  ...   \n",
       "0007235c769e610e3d339a17818a5708e41008d9                          NaN  ...   \n",
       "0007c0e74728ca9ef0fe4eb7f75732e8026a278b                          NaN  ...   \n",
       "\n",
       "title                                     sillyworld (Album Version)  \\\n",
       "user_id                                                                \n",
       "00003a4459f33b92906be11abe0e93efc423c0ff                         NaN   \n",
       "00005c6177188f12fb5e2e82cdbd93e8a3f35e64                         NaN   \n",
       "00030033e3a2f904a48ec1dd53019c9969b6ef1f                         NaN   \n",
       "0007235c769e610e3d339a17818a5708e41008d9                         NaN   \n",
       "0007c0e74728ca9ef0fe4eb7f75732e8026a278b                         NaN   \n",
       "\n",
       "title                                     sleep_ eat food_ have visions  \\\n",
       "user_id                                                                   \n",
       "00003a4459f33b92906be11abe0e93efc423c0ff                            NaN   \n",
       "00005c6177188f12fb5e2e82cdbd93e8a3f35e64                            NaN   \n",
       "00030033e3a2f904a48ec1dd53019c9969b6ef1f                            NaN   \n",
       "0007235c769e610e3d339a17818a5708e41008d9                            NaN   \n",
       "0007c0e74728ca9ef0fe4eb7f75732e8026a278b                            NaN   \n",
       "\n",
       "title                                     smile around the face  \\\n",
       "user_id                                                           \n",
       "00003a4459f33b92906be11abe0e93efc423c0ff                    NaN   \n",
       "00005c6177188f12fb5e2e82cdbd93e8a3f35e64                    NaN   \n",
       "00030033e3a2f904a48ec1dd53019c9969b6ef1f                    NaN   \n",
       "0007235c769e610e3d339a17818a5708e41008d9                    NaN   \n",
       "0007c0e74728ca9ef0fe4eb7f75732e8026a278b                    NaN   \n",
       "\n",
       "title                                     sun drums and soil  \\\n",
       "user_id                                                        \n",
       "00003a4459f33b92906be11abe0e93efc423c0ff                 NaN   \n",
       "00005c6177188f12fb5e2e82cdbd93e8a3f35e64                 NaN   \n",
       "00030033e3a2f904a48ec1dd53019c9969b6ef1f                 NaN   \n",
       "0007235c769e610e3d339a17818a5708e41008d9                 NaN   \n",
       "0007c0e74728ca9ef0fe4eb7f75732e8026a278b                 NaN   \n",
       "\n",
       "title                                     teachme (Album Version)  \\\n",
       "user_id                                                             \n",
       "00003a4459f33b92906be11abe0e93efc423c0ff                      NaN   \n",
       "00005c6177188f12fb5e2e82cdbd93e8a3f35e64                      NaN   \n",
       "00030033e3a2f904a48ec1dd53019c9969b6ef1f                      NaN   \n",
       "0007235c769e610e3d339a17818a5708e41008d9                      NaN   \n",
       "0007c0e74728ca9ef0fe4eb7f75732e8026a278b                      NaN   \n",
       "\n",
       "title                                     the Love Song  \\\n",
       "user_id                                                   \n",
       "00003a4459f33b92906be11abe0e93efc423c0ff            NaN   \n",
       "00005c6177188f12fb5e2e82cdbd93e8a3f35e64            NaN   \n",
       "00030033e3a2f904a48ec1dd53019c9969b6ef1f            NaN   \n",
       "0007235c769e610e3d339a17818a5708e41008d9            NaN   \n",
       "0007c0e74728ca9ef0fe4eb7f75732e8026a278b            NaN   \n",
       "\n",
       "title                                     you were there with me  \\\n",
       "user_id                                                            \n",
       "00003a4459f33b92906be11abe0e93efc423c0ff                     NaN   \n",
       "00005c6177188f12fb5e2e82cdbd93e8a3f35e64                     NaN   \n",
       "00030033e3a2f904a48ec1dd53019c9969b6ef1f                     NaN   \n",
       "0007235c769e610e3d339a17818a5708e41008d9                     NaN   \n",
       "0007c0e74728ca9ef0fe4eb7f75732e8026a278b                     NaN   \n",
       "\n",
       "title                                     ¡Viva La Gloria! (Album Version)  \\\n",
       "user_id                                                                      \n",
       "00003a4459f33b92906be11abe0e93efc423c0ff                               NaN   \n",
       "00005c6177188f12fb5e2e82cdbd93e8a3f35e64                               NaN   \n",
       "00030033e3a2f904a48ec1dd53019c9969b6ef1f                               NaN   \n",
       "0007235c769e610e3d339a17818a5708e41008d9                               NaN   \n",
       "0007c0e74728ca9ef0fe4eb7f75732e8026a278b                               NaN   \n",
       "\n",
       "title                                     ¿Lo Ves? [Piano Y Voz]  Época  \n",
       "user_id                                                                  \n",
       "00003a4459f33b92906be11abe0e93efc423c0ff                     NaN    NaN  \n",
       "00005c6177188f12fb5e2e82cdbd93e8a3f35e64                     NaN    NaN  \n",
       "00030033e3a2f904a48ec1dd53019c9969b6ef1f                     NaN    NaN  \n",
       "0007235c769e610e3d339a17818a5708e41008d9                     NaN    NaN  \n",
       "0007c0e74728ca9ef0fe4eb7f75732e8026a278b                     NaN    NaN  \n",
       "\n",
       "[5 rows x 9593 columns]"
      ]
     },
     "execution_count": 23,
     "metadata": {},
     "output_type": "execute_result"
    }
   ],
   "source": [
    "songmat=df.pivot_table(index='user_id',columns='title',values='listen_count')\n",
    "songmat.head()"
   ]
  },
  {
   "cell_type": "markdown",
   "metadata": {},
   "source": [
    "## Fusntion of the Recommender System:"
   ]
  },
  {
   "cell_type": "code",
   "execution_count": 24,
   "metadata": {},
   "outputs": [],
   "source": [
    "def corr(song):\n",
    "    mat=songmat[song]\n",
    "    similar_to=songmat.corrwith(mat)\n",
    "    corr_s=pd.DataFrame(similar_to,columns=['Correlation'])\n",
    "    corr_s.dropna(inplace=True)\n",
    "    corr_s=corr_s.join(listenCount['num_of-listeners'])\n",
    "    data=corr_s[corr_s['num_of-listeners']>750].sort_values('Correlation',ascending=False).head(6)\n",
    "    print(\"The list of the 5 songs that you can prefer to listen afetr Sehr kosmisch are:\")\n",
    "    list=data.index.values.tolist()\n",
    "    for i in range(len(list)-1):\n",
    "        print(list[i+1])\n",
    "    return ;"
   ]
  },
  {
   "cell_type": "code",
   "execution_count": 25,
   "metadata": {},
   "outputs": [
    {
     "name": "stdout",
     "output_type": "stream",
     "text": [
      "The list of the 5 songs that you can prefer to listen afetr Sehr kosmisch are:\n",
      "Alejandro\n",
      "Love Story\n",
      "Our Song\n",
      "Bring Me To Life\n",
      "Secrets\n"
     ]
    }
   ],
   "source": [
    "corr('Sehr kosmisch')"
   ]
  },
  {
   "cell_type": "code",
   "execution_count": 26,
   "metadata": {},
   "outputs": [
    {
     "name": "stdout",
     "output_type": "stream",
     "text": [
      "The list of the 5 songs that you can prefer to listen afetr Sehr kosmisch are:\n",
      "Is This It\n",
      "You Only Live Once\n",
      "Forever\n",
      "Half Of My Heart\n",
      "When You Were Young\n"
     ]
    }
   ],
   "source": [
    "corr('Yellow')"
   ]
  },
  {
   "cell_type": "code",
   "execution_count": null,
   "metadata": {},
   "outputs": [],
   "source": []
  }
 ],
 "metadata": {
  "kernelspec": {
   "display_name": "Python 3",
   "language": "python",
   "name": "python3"
  },
  "language_info": {
   "codemirror_mode": {
    "name": "ipython",
    "version": 3
   },
   "file_extension": ".py",
   "mimetype": "text/x-python",
   "name": "python",
   "nbconvert_exporter": "python",
   "pygments_lexer": "ipython3",
   "version": "3.7.4"
  }
 },
 "nbformat": 4,
 "nbformat_minor": 2
}
