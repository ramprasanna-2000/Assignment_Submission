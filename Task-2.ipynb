{
 "cells": [
  {
   "cell_type": "raw",
   "metadata": {},
   "source": [
    "Machine Learning Internship at IIT ISM (Dhanbad):\n",
    "\n",
    "Assignment-I (Exploratory Data Analysis)\n",
    "\n",
    "Completed by,\n",
    "\n",
    "  Ram Prasanna      \n",
    "  Gayathri Lakshmi\n",
    "  Kajal Tiwari\n",
    "  Sandeep\n",
    "  Sasi\n",
    "  Tharun \n",
    "  Asim Arbind Samal\n",
    "  Nandan\n",
    "  Gourav Garg\n",
    "  Kalyani"
   ]
  },
  {
   "cell_type": "markdown",
   "metadata": {},
   "source": [
    "## Importing Libraries and Dataset:"
   ]
  },
  {
   "cell_type": "code",
   "execution_count": 1,
   "metadata": {},
   "outputs": [],
   "source": [
    "import numpy as np\n",
    "import pandas as pd\n",
    "import matplotlib.pyplot as plt\n",
    "import seaborn as sns\n",
    "from sklearn.preprocessing import LabelEncoder\n",
    "from sklearn.impute import SimpleImputer\n",
    "from sklearn.preprocessing import StandardScaler\n",
    "from sklearn.model_selection import train_test_split\n",
    "from sklearn.tree import DecisionTreeClassifier\n",
    "from sklearn.ensemble import RandomForestClassifier\n",
    "from sklearn import neighbors\n",
    "from sklearn.metrics import accuracy_score\n",
    "from sklearn.metrics import confusion_matrix\n",
    "from sklearn.metrics import precision_score ,recall_score,f1_score\n",
    "import warnings\n",
    "warnings.filterwarnings('ignore')"
   ]
  },
  {
   "cell_type": "markdown",
   "metadata": {},
   "source": [
    "## Data Visualization:"
   ]
  },
  {
   "cell_type": "code",
   "execution_count": 2,
   "metadata": {},
   "outputs": [
    {
     "data": {
      "text/html": [
       "<div>\n",
       "<style scoped>\n",
       "    .dataframe tbody tr th:only-of-type {\n",
       "        vertical-align: middle;\n",
       "    }\n",
       "\n",
       "    .dataframe tbody tr th {\n",
       "        vertical-align: top;\n",
       "    }\n",
       "\n",
       "    .dataframe thead th {\n",
       "        text-align: right;\n",
       "    }\n",
       "</style>\n",
       "<table border=\"1\" class=\"dataframe\">\n",
       "  <thead>\n",
       "    <tr style=\"text-align: right;\">\n",
       "      <th></th>\n",
       "      <th>age</th>\n",
       "      <th>job</th>\n",
       "      <th>marital</th>\n",
       "      <th>education</th>\n",
       "      <th>default</th>\n",
       "      <th>balance</th>\n",
       "      <th>housing</th>\n",
       "      <th>loan</th>\n",
       "      <th>contact</th>\n",
       "      <th>day</th>\n",
       "      <th>month</th>\n",
       "      <th>duration</th>\n",
       "      <th>campaign</th>\n",
       "      <th>pdays</th>\n",
       "      <th>previous</th>\n",
       "      <th>poutcome</th>\n",
       "      <th>y</th>\n",
       "    </tr>\n",
       "  </thead>\n",
       "  <tbody>\n",
       "    <tr>\n",
       "      <td>0</td>\n",
       "      <td>58</td>\n",
       "      <td>management</td>\n",
       "      <td>married</td>\n",
       "      <td>tertiary</td>\n",
       "      <td>no</td>\n",
       "      <td>2143</td>\n",
       "      <td>yes</td>\n",
       "      <td>no</td>\n",
       "      <td>unknown</td>\n",
       "      <td>5</td>\n",
       "      <td>may</td>\n",
       "      <td>261</td>\n",
       "      <td>1</td>\n",
       "      <td>-1</td>\n",
       "      <td>0</td>\n",
       "      <td>unknown</td>\n",
       "      <td>no</td>\n",
       "    </tr>\n",
       "    <tr>\n",
       "      <td>1</td>\n",
       "      <td>44</td>\n",
       "      <td>technician</td>\n",
       "      <td>single</td>\n",
       "      <td>secondary</td>\n",
       "      <td>no</td>\n",
       "      <td>29</td>\n",
       "      <td>yes</td>\n",
       "      <td>no</td>\n",
       "      <td>unknown</td>\n",
       "      <td>5</td>\n",
       "      <td>may</td>\n",
       "      <td>151</td>\n",
       "      <td>1</td>\n",
       "      <td>-1</td>\n",
       "      <td>0</td>\n",
       "      <td>unknown</td>\n",
       "      <td>no</td>\n",
       "    </tr>\n",
       "    <tr>\n",
       "      <td>2</td>\n",
       "      <td>33</td>\n",
       "      <td>entrepreneur</td>\n",
       "      <td>married</td>\n",
       "      <td>secondary</td>\n",
       "      <td>no</td>\n",
       "      <td>2</td>\n",
       "      <td>yes</td>\n",
       "      <td>yes</td>\n",
       "      <td>unknown</td>\n",
       "      <td>5</td>\n",
       "      <td>may</td>\n",
       "      <td>76</td>\n",
       "      <td>1</td>\n",
       "      <td>-1</td>\n",
       "      <td>0</td>\n",
       "      <td>unknown</td>\n",
       "      <td>no</td>\n",
       "    </tr>\n",
       "    <tr>\n",
       "      <td>3</td>\n",
       "      <td>47</td>\n",
       "      <td>blue-collar</td>\n",
       "      <td>married</td>\n",
       "      <td>unknown</td>\n",
       "      <td>no</td>\n",
       "      <td>1506</td>\n",
       "      <td>yes</td>\n",
       "      <td>no</td>\n",
       "      <td>unknown</td>\n",
       "      <td>5</td>\n",
       "      <td>may</td>\n",
       "      <td>92</td>\n",
       "      <td>1</td>\n",
       "      <td>-1</td>\n",
       "      <td>0</td>\n",
       "      <td>unknown</td>\n",
       "      <td>no</td>\n",
       "    </tr>\n",
       "    <tr>\n",
       "      <td>4</td>\n",
       "      <td>33</td>\n",
       "      <td>unknown</td>\n",
       "      <td>single</td>\n",
       "      <td>unknown</td>\n",
       "      <td>no</td>\n",
       "      <td>1</td>\n",
       "      <td>no</td>\n",
       "      <td>no</td>\n",
       "      <td>unknown</td>\n",
       "      <td>5</td>\n",
       "      <td>may</td>\n",
       "      <td>198</td>\n",
       "      <td>1</td>\n",
       "      <td>-1</td>\n",
       "      <td>0</td>\n",
       "      <td>unknown</td>\n",
       "      <td>no</td>\n",
       "    </tr>\n",
       "  </tbody>\n",
       "</table>\n",
       "</div>"
      ],
      "text/plain": [
       "   age           job  marital  education default  balance housing loan  \\\n",
       "0   58    management  married   tertiary      no     2143     yes   no   \n",
       "1   44    technician   single  secondary      no       29     yes   no   \n",
       "2   33  entrepreneur  married  secondary      no        2     yes  yes   \n",
       "3   47   blue-collar  married    unknown      no     1506     yes   no   \n",
       "4   33       unknown   single    unknown      no        1      no   no   \n",
       "\n",
       "   contact  day month  duration  campaign  pdays  previous poutcome   y  \n",
       "0  unknown    5   may       261         1     -1         0  unknown  no  \n",
       "1  unknown    5   may       151         1     -1         0  unknown  no  \n",
       "2  unknown    5   may        76         1     -1         0  unknown  no  \n",
       "3  unknown    5   may        92         1     -1         0  unknown  no  \n",
       "4  unknown    5   may       198         1     -1         0  unknown  no  "
      ]
     },
     "execution_count": 2,
     "metadata": {},
     "output_type": "execute_result"
    }
   ],
   "source": [
    "df = pd.read_csv(\"bank-full.csv\")\n",
    "df.head()"
   ]
  },
  {
   "cell_type": "code",
   "execution_count": 3,
   "metadata": {},
   "outputs": [
    {
     "name": "stdout",
     "output_type": "stream",
     "text": [
      "<class 'pandas.core.frame.DataFrame'>\n",
      "RangeIndex: 45211 entries, 0 to 45210\n",
      "Data columns (total 17 columns):\n",
      "age          45211 non-null int64\n",
      "job          45211 non-null object\n",
      "marital      45211 non-null object\n",
      "education    45211 non-null object\n",
      "default      45211 non-null object\n",
      "balance      45211 non-null int64\n",
      "housing      45211 non-null object\n",
      "loan         45211 non-null object\n",
      "contact      45211 non-null object\n",
      "day          45211 non-null int64\n",
      "month        45211 non-null object\n",
      "duration     45211 non-null int64\n",
      "campaign     45211 non-null int64\n",
      "pdays        45211 non-null int64\n",
      "previous     45211 non-null int64\n",
      "poutcome     45211 non-null object\n",
      "y            45211 non-null object\n",
      "dtypes: int64(7), object(10)\n",
      "memory usage: 5.9+ MB\n"
     ]
    }
   ],
   "source": [
    "df.info()"
   ]
  },
  {
   "cell_type": "code",
   "execution_count": 4,
   "metadata": {},
   "outputs": [
    {
     "data": {
      "text/html": [
       "<div>\n",
       "<style scoped>\n",
       "    .dataframe tbody tr th:only-of-type {\n",
       "        vertical-align: middle;\n",
       "    }\n",
       "\n",
       "    .dataframe tbody tr th {\n",
       "        vertical-align: top;\n",
       "    }\n",
       "\n",
       "    .dataframe thead th {\n",
       "        text-align: right;\n",
       "    }\n",
       "</style>\n",
       "<table border=\"1\" class=\"dataframe\">\n",
       "  <thead>\n",
       "    <tr style=\"text-align: right;\">\n",
       "      <th></th>\n",
       "      <th>age</th>\n",
       "      <th>balance</th>\n",
       "      <th>day</th>\n",
       "      <th>duration</th>\n",
       "      <th>campaign</th>\n",
       "      <th>pdays</th>\n",
       "      <th>previous</th>\n",
       "    </tr>\n",
       "  </thead>\n",
       "  <tbody>\n",
       "    <tr>\n",
       "      <td>count</td>\n",
       "      <td>45211.000000</td>\n",
       "      <td>45211.000000</td>\n",
       "      <td>45211.000000</td>\n",
       "      <td>45211.000000</td>\n",
       "      <td>45211.000000</td>\n",
       "      <td>45211.000000</td>\n",
       "      <td>45211.000000</td>\n",
       "    </tr>\n",
       "    <tr>\n",
       "      <td>mean</td>\n",
       "      <td>40.936210</td>\n",
       "      <td>1362.272058</td>\n",
       "      <td>15.806419</td>\n",
       "      <td>258.163080</td>\n",
       "      <td>2.763841</td>\n",
       "      <td>40.197828</td>\n",
       "      <td>0.580323</td>\n",
       "    </tr>\n",
       "    <tr>\n",
       "      <td>std</td>\n",
       "      <td>10.618762</td>\n",
       "      <td>3044.765829</td>\n",
       "      <td>8.322476</td>\n",
       "      <td>257.527812</td>\n",
       "      <td>3.098021</td>\n",
       "      <td>100.128746</td>\n",
       "      <td>2.303441</td>\n",
       "    </tr>\n",
       "    <tr>\n",
       "      <td>min</td>\n",
       "      <td>18.000000</td>\n",
       "      <td>-8019.000000</td>\n",
       "      <td>1.000000</td>\n",
       "      <td>0.000000</td>\n",
       "      <td>1.000000</td>\n",
       "      <td>-1.000000</td>\n",
       "      <td>0.000000</td>\n",
       "    </tr>\n",
       "    <tr>\n",
       "      <td>25%</td>\n",
       "      <td>33.000000</td>\n",
       "      <td>72.000000</td>\n",
       "      <td>8.000000</td>\n",
       "      <td>103.000000</td>\n",
       "      <td>1.000000</td>\n",
       "      <td>-1.000000</td>\n",
       "      <td>0.000000</td>\n",
       "    </tr>\n",
       "    <tr>\n",
       "      <td>50%</td>\n",
       "      <td>39.000000</td>\n",
       "      <td>448.000000</td>\n",
       "      <td>16.000000</td>\n",
       "      <td>180.000000</td>\n",
       "      <td>2.000000</td>\n",
       "      <td>-1.000000</td>\n",
       "      <td>0.000000</td>\n",
       "    </tr>\n",
       "    <tr>\n",
       "      <td>75%</td>\n",
       "      <td>48.000000</td>\n",
       "      <td>1428.000000</td>\n",
       "      <td>21.000000</td>\n",
       "      <td>319.000000</td>\n",
       "      <td>3.000000</td>\n",
       "      <td>-1.000000</td>\n",
       "      <td>0.000000</td>\n",
       "    </tr>\n",
       "    <tr>\n",
       "      <td>max</td>\n",
       "      <td>95.000000</td>\n",
       "      <td>102127.000000</td>\n",
       "      <td>31.000000</td>\n",
       "      <td>4918.000000</td>\n",
       "      <td>63.000000</td>\n",
       "      <td>871.000000</td>\n",
       "      <td>275.000000</td>\n",
       "    </tr>\n",
       "  </tbody>\n",
       "</table>\n",
       "</div>"
      ],
      "text/plain": [
       "                age        balance           day      duration      campaign  \\\n",
       "count  45211.000000   45211.000000  45211.000000  45211.000000  45211.000000   \n",
       "mean      40.936210    1362.272058     15.806419    258.163080      2.763841   \n",
       "std       10.618762    3044.765829      8.322476    257.527812      3.098021   \n",
       "min       18.000000   -8019.000000      1.000000      0.000000      1.000000   \n",
       "25%       33.000000      72.000000      8.000000    103.000000      1.000000   \n",
       "50%       39.000000     448.000000     16.000000    180.000000      2.000000   \n",
       "75%       48.000000    1428.000000     21.000000    319.000000      3.000000   \n",
       "max       95.000000  102127.000000     31.000000   4918.000000     63.000000   \n",
       "\n",
       "              pdays      previous  \n",
       "count  45211.000000  45211.000000  \n",
       "mean      40.197828      0.580323  \n",
       "std      100.128746      2.303441  \n",
       "min       -1.000000      0.000000  \n",
       "25%       -1.000000      0.000000  \n",
       "50%       -1.000000      0.000000  \n",
       "75%       -1.000000      0.000000  \n",
       "max      871.000000    275.000000  "
      ]
     },
     "execution_count": 4,
     "metadata": {},
     "output_type": "execute_result"
    }
   ],
   "source": [
    "df.describe()"
   ]
  },
  {
   "cell_type": "code",
   "execution_count": 5,
   "metadata": {},
   "outputs": [
    {
     "data": {
      "text/plain": [
       "<seaborn.axisgrid.FacetGrid at 0x230c82c0148>"
      ]
     },
     "execution_count": 5,
     "metadata": {},
     "output_type": "execute_result"
    },
    {
     "data": {
      "image/png": "[encoded data removed]",
      "text/plain": [
       "<Figure size 413.25x360 with 1 Axes>"
      ]
     },
     "metadata": {
      "needs_background": "light"
     },
     "output_type": "display_data"
    }
   ],
   "source": [
    "sns.lmplot(x='duration',y='balance',hue='y',data=df)"
   ]
  },
  {
   "cell_type": "code",
   "execution_count": 6,
   "metadata": {},
   "outputs": [
    {
     "data": {
      "text/plain": [
       "<seaborn.axisgrid.FacetGrid at 0x230c865d108>"
      ]
     },
     "execution_count": 6,
     "metadata": {},
     "output_type": "execute_result"
    },
    {
     "data": {
      "image/png": "[encoded data removed]",
      "text/plain": [
       "<Figure size 413.25x360 with 1 Axes>"
      ]
     },
     "metadata": {
      "needs_background": "light"
     },
     "output_type": "display_data"
    }
   ],
   "source": [
    "sns.lmplot(x='age',y='balance',hue='y',data=df)"
   ]
  },
  {
   "cell_type": "code",
   "execution_count": 20,
   "metadata": {},
   "outputs": [
    {
     "data": {
      "image/png": "[encoded data removed]",
      "text/plain": [
       "<Figure size 269.25x216 with 1 Axes>"
      ]
     },
     "metadata": {
      "needs_background": "light"
     },
     "output_type": "display_data"
    }
   ],
   "source": [
    "g = sns.FacetGrid(df,hue=\"y\")\n",
    "g.map(plt.hist, \"balance\")\n",
    "g.add_legend();"
   ]
  },
  {
   "cell_type": "code",
   "execution_count": 26,
   "metadata": {},
   "outputs": [
    {
     "data": {
      "image/png": "[encoded data removed]",
      "text/plain": [
       "<Figure size 269.25x216 with 1 Axes>"
      ]
     },
     "metadata": {
      "needs_background": "light"
     },
     "output_type": "display_data"
    }
   ],
   "source": [
    "g = sns.FacetGrid(df,hue=\"y\")\n",
    "g.map(plt.hist, \"duration\")\n",
    "g.add_legend();"
   ]
  },
  {
   "cell_type": "code",
   "execution_count": 30,
   "metadata": {},
   "outputs": [
    {
     "data": {
      "image/png": "[encoded data removed]",
      "text/plain": [
       "<Figure size 360x360 with 1 Axes>"
      ]
     },
     "metadata": {
      "needs_background": "light"
     },
     "output_type": "display_data"
    }
   ],
   "source": [
    "sns.catplot(data=df, orient=\"h\", kind=\"box\");"
   ]
  },
  {
   "cell_type": "code",
   "execution_count": 31,
   "metadata": {},
   "outputs": [
    {
     "name": "stdout",
     "output_type": "stream",
     "text": [
      "[[58 'management' 'married' ... 0 'unknown' 'no']\n",
      " [44 'technician' 'single' ... 0 'unknown' 'no']\n",
      " [33 'entrepreneur' 'married' ... 0 'unknown' 'no']\n",
      " ...\n",
      " [72 'retired' 'married' ... 3 'success' 'yes']\n",
      " [57 'blue-collar' 'married' ... 0 'unknown' 'no']\n",
      " [37 'entrepreneur' 'married' ... 11 'other' 'no']]\n"
     ]
    }
   ],
   "source": [
    "features = df.iloc[:,:].values\n",
    "print(features)"
   ]
  },
  {
   "cell_type": "code",
   "execution_count": 32,
   "metadata": {},
   "outputs": [],
   "source": [
    "encode=LabelEncoder()\n",
    "for i in [1,2,3,4,6,7,8,10,15,16] :\n",
    "    features[:,i] = encode.fit_transform(features[:,i])"
   ]
  },
  {
   "cell_type": "code",
   "execution_count": 37,
   "metadata": {},
   "outputs": [],
   "source": [
    "column_list=df.columns.to_numpy().tolist()\n",
    "data=pd.DataFrame(features)\n",
    "data.columns=column_list\n",
    "data=data.astype(float)"
   ]
  },
  {
   "cell_type": "code",
   "execution_count": 38,
   "metadata": {},
   "outputs": [
    {
     "data": {
      "text/html": [
       "<div>\n",
       "<style scoped>\n",
       "    .dataframe tbody tr th:only-of-type {\n",
       "        vertical-align: middle;\n",
       "    }\n",
       "\n",
       "    .dataframe tbody tr th {\n",
       "        vertical-align: top;\n",
       "    }\n",
       "\n",
       "    .dataframe thead th {\n",
       "        text-align: right;\n",
       "    }\n",
       "</style>\n",
       "<table border=\"1\" class=\"dataframe\">\n",
       "  <thead>\n",
       "    <tr style=\"text-align: right;\">\n",
       "      <th></th>\n",
       "      <th>age</th>\n",
       "      <th>job</th>\n",
       "      <th>marital</th>\n",
       "      <th>education</th>\n",
       "      <th>default</th>\n",
       "      <th>balance</th>\n",
       "      <th>housing</th>\n",
       "      <th>loan</th>\n",
       "      <th>contact</th>\n",
       "      <th>day</th>\n",
       "      <th>month</th>\n",
       "      <th>duration</th>\n",
       "      <th>campaign</th>\n",
       "      <th>pdays</th>\n",
       "      <th>previous</th>\n",
       "      <th>poutcome</th>\n",
       "      <th>y</th>\n",
       "    </tr>\n",
       "  </thead>\n",
       "  <tbody>\n",
       "    <tr>\n",
       "      <td>0</td>\n",
       "      <td>58.0</td>\n",
       "      <td>4.0</td>\n",
       "      <td>1.0</td>\n",
       "      <td>2.0</td>\n",
       "      <td>0.0</td>\n",
       "      <td>2143.0</td>\n",
       "      <td>1.0</td>\n",
       "      <td>0.0</td>\n",
       "      <td>2.0</td>\n",
       "      <td>5.0</td>\n",
       "      <td>8.0</td>\n",
       "      <td>261.0</td>\n",
       "      <td>1.0</td>\n",
       "      <td>-1.0</td>\n",
       "      <td>0.0</td>\n",
       "      <td>3.0</td>\n",
       "      <td>0.0</td>\n",
       "    </tr>\n",
       "    <tr>\n",
       "      <td>1</td>\n",
       "      <td>44.0</td>\n",
       "      <td>9.0</td>\n",
       "      <td>2.0</td>\n",
       "      <td>1.0</td>\n",
       "      <td>0.0</td>\n",
       "      <td>29.0</td>\n",
       "      <td>1.0</td>\n",
       "      <td>0.0</td>\n",
       "      <td>2.0</td>\n",
       "      <td>5.0</td>\n",
       "      <td>8.0</td>\n",
       "      <td>151.0</td>\n",
       "      <td>1.0</td>\n",
       "      <td>-1.0</td>\n",
       "      <td>0.0</td>\n",
       "      <td>3.0</td>\n",
       "      <td>0.0</td>\n",
       "    </tr>\n",
       "    <tr>\n",
       "      <td>2</td>\n",
       "      <td>33.0</td>\n",
       "      <td>2.0</td>\n",
       "      <td>1.0</td>\n",
       "      <td>1.0</td>\n",
       "      <td>0.0</td>\n",
       "      <td>2.0</td>\n",
       "      <td>1.0</td>\n",
       "      <td>1.0</td>\n",
       "      <td>2.0</td>\n",
       "      <td>5.0</td>\n",
       "      <td>8.0</td>\n",
       "      <td>76.0</td>\n",
       "      <td>1.0</td>\n",
       "      <td>-1.0</td>\n",
       "      <td>0.0</td>\n",
       "      <td>3.0</td>\n",
       "      <td>0.0</td>\n",
       "    </tr>\n",
       "    <tr>\n",
       "      <td>3</td>\n",
       "      <td>47.0</td>\n",
       "      <td>1.0</td>\n",
       "      <td>1.0</td>\n",
       "      <td>3.0</td>\n",
       "      <td>0.0</td>\n",
       "      <td>1506.0</td>\n",
       "      <td>1.0</td>\n",
       "      <td>0.0</td>\n",
       "      <td>2.0</td>\n",
       "      <td>5.0</td>\n",
       "      <td>8.0</td>\n",
       "      <td>92.0</td>\n",
       "      <td>1.0</td>\n",
       "      <td>-1.0</td>\n",
       "      <td>0.0</td>\n",
       "      <td>3.0</td>\n",
       "      <td>0.0</td>\n",
       "    </tr>\n",
       "    <tr>\n",
       "      <td>4</td>\n",
       "      <td>33.0</td>\n",
       "      <td>11.0</td>\n",
       "      <td>2.0</td>\n",
       "      <td>3.0</td>\n",
       "      <td>0.0</td>\n",
       "      <td>1.0</td>\n",
       "      <td>0.0</td>\n",
       "      <td>0.0</td>\n",
       "      <td>2.0</td>\n",
       "      <td>5.0</td>\n",
       "      <td>8.0</td>\n",
       "      <td>198.0</td>\n",
       "      <td>1.0</td>\n",
       "      <td>-1.0</td>\n",
       "      <td>0.0</td>\n",
       "      <td>3.0</td>\n",
       "      <td>0.0</td>\n",
       "    </tr>\n",
       "  </tbody>\n",
       "</table>\n",
       "</div>"
      ],
      "text/plain": [
       "    age   job  marital  education  default  balance  housing  loan  contact  \\\n",
       "0  58.0   4.0      1.0        2.0      0.0   2143.0      1.0   0.0      2.0   \n",
       "1  44.0   9.0      2.0        1.0      0.0     29.0      1.0   0.0      2.0   \n",
       "2  33.0   2.0      1.0        1.0      0.0      2.0      1.0   1.0      2.0   \n",
       "3  47.0   1.0      1.0        3.0      0.0   1506.0      1.0   0.0      2.0   \n",
       "4  33.0  11.0      2.0        3.0      0.0      1.0      0.0   0.0      2.0   \n",
       "\n",
       "   day  month  duration  campaign  pdays  previous  poutcome    y  \n",
       "0  5.0    8.0     261.0       1.0   -1.0       0.0       3.0  0.0  \n",
       "1  5.0    8.0     151.0       1.0   -1.0       0.0       3.0  0.0  \n",
       "2  5.0    8.0      76.0       1.0   -1.0       0.0       3.0  0.0  \n",
       "3  5.0    8.0      92.0       1.0   -1.0       0.0       3.0  0.0  \n",
       "4  5.0    8.0     198.0       1.0   -1.0       0.0       3.0  0.0  "
      ]
     },
     "execution_count": 38,
     "metadata": {},
     "output_type": "execute_result"
    }
   ],
   "source": [
    "data.head()"
   ]
  },
  {
   "cell_type": "code",
   "execution_count": 39,
   "metadata": {},
   "outputs": [
    {
     "data": {
      "text/plain": [
       "<matplotlib.axes._subplots.AxesSubplot at 0x230c8a10c88>"
      ]
     },
     "execution_count": 39,
     "metadata": {},
     "output_type": "execute_result"
    },
    {
     "data": {
      "image/png": "[encoded data removed]",
      "text/plain": [
       "<Figure size 1440x1440 with 2 Axes>"
      ]
     },
     "metadata": {
      "needs_background": "light"
     },
     "output_type": "display_data"
    }
   ],
   "source": [
    "correlate=data.corr()\n",
    "top_corr_features=correlate.index\n",
    "plt.figure(figsize=(20,20))\n",
    "sns.heatmap(data[top_corr_features].corr(),annot=True)"
   ]
  },
  {
   "cell_type": "code",
   "execution_count": 44,
   "metadata": {},
   "outputs": [
    {
     "data": {
      "text/plain": [
       "<matplotlib.axes._subplots.AxesSubplot at 0x230cc725cc8>"
      ]
     },
     "execution_count": 44,
     "metadata": {},
     "output_type": "execute_result"
    },
    {
     "data": {
      "image/png": "[encoded data removed]",
      "text/plain": [
       "<Figure size 1440x720 with 1 Axes>"
      ]
     },
     "metadata": {
      "needs_background": "light"
     },
     "output_type": "display_data"
    }
   ],
   "source": [
    "plt.figure(figsize = (20,10))\n",
    "sns.countplot(x = 'age', data= df)"
   ]
  },
  {
   "cell_type": "code",
   "execution_count": null,
   "metadata": {},
   "outputs": [],
   "source": []
  },
  {
   "cell_type": "markdown",
   "metadata": {},
   "source": [
    "## Data Pipeline Function:"
   ]
  },
  {
   "cell_type": "code",
   "execution_count": 7,
   "metadata": {},
   "outputs": [],
   "source": [
    "def preprocessing_pipeline():\n",
    "    file_name=input()\n",
    "    data1=pd.read_csv(file_name)\n",
    "    \n",
    "    \n",
    "    # splitting the data into two parts--->features \n",
    "    \n",
    "    features = data1.iloc[:,:-1].values\n",
    "    \n",
    "    column_list=data1.columns.to_numpy().tolist()\n",
    "    column_list.pop()\n",
    "    \n",
    "    #for transformation cat data ---> num data\n",
    "\n",
    "    #--------------->LABEL ENCODING<------------------\n",
    "    #label encoding convert the categorical data to num data\n",
    "    #the columns with categorical data are 1,2,3,4,6,7,8,10,15 columns\n",
    "    \n",
    "    encode=LabelEncoder()\n",
    "    for i in [1,2,3,4,6,7,8,10,15]:\n",
    "        features[:,i] = encode.fit_transform(features[:,i])\n",
    "        \n",
    "    #getting target data\n",
    "    \n",
    "    target=data1.iloc[:,-1:]=='yes'\n",
    "    target=encode.fit_transform(target)\n",
    "    \n",
    "    #getting final data\n",
    "    \n",
    "    final_data=pd.DataFrame(features)\n",
    "    final_data.columns=column_list\n",
    "    final_data=final_data.astype(float)\n",
    "    \n",
    "    \n",
    "    numerical_columns=['age','balance','day','duration','campaign','pdays','previous']\n",
    "    \n",
    "    #splitting into train and test    \n",
    "    X_train, X_test, y_train, y_test = train_test_split(final_data, target, random_state=0)\n",
    "    \n",
    "    #checking and filling the missing values using imputer\n",
    "    my_imputer = SimpleImputer()\n",
    "    final_X_train = pd.DataFrame(my_imputer.fit_transform(X_train))\n",
    "    final_X_test = pd.DataFrame(my_imputer.transform(X_test))\n",
    "\n",
    "    # Imputation removed column names; put them back\n",
    "    final_X_train.columns = X_train.columns\n",
    "    final_X_test.columns = X_test.columns\n",
    "        \n",
    "    #feature scaling numerical data\n",
    "    for i in numerical_columns :\n",
    "        scale = StandardScaler().fit(final_X_train[[i]])\n",
    "        final_X_train[i] = scale.transform(final_X_train[[i]])\n",
    "        final_X_test[i] = scale.transform(final_X_test[[i]])\n",
    "     \n",
    "        \n",
    "    return( final_X_train, final_X_test, y_train, y_test )"
   ]
  },
  {
   "cell_type": "code",
   "execution_count": 8,
   "metadata": {},
   "outputs": [
    {
     "name": "stdout",
     "output_type": "stream",
     "text": [
      "bank-full.csv\n"
     ]
    }
   ],
   "source": [
    "train_X,test_X,train_y,test_y = preprocessing_pipeline()"
   ]
  },
  {
   "cell_type": "code",
   "execution_count": 9,
   "metadata": {},
   "outputs": [
    {
     "data": {
      "text/html": [
       "<div>\n",
       "<style scoped>\n",
       "    .dataframe tbody tr th:only-of-type {\n",
       "        vertical-align: middle;\n",
       "    }\n",
       "\n",
       "    .dataframe tbody tr th {\n",
       "        vertical-align: top;\n",
       "    }\n",
       "\n",
       "    .dataframe thead th {\n",
       "        text-align: right;\n",
       "    }\n",
       "</style>\n",
       "<table border=\"1\" class=\"dataframe\">\n",
       "  <thead>\n",
       "    <tr style=\"text-align: right;\">\n",
       "      <th></th>\n",
       "      <th>age</th>\n",
       "      <th>job</th>\n",
       "      <th>marital</th>\n",
       "      <th>education</th>\n",
       "      <th>default</th>\n",
       "      <th>balance</th>\n",
       "      <th>housing</th>\n",
       "      <th>loan</th>\n",
       "      <th>contact</th>\n",
       "      <th>day</th>\n",
       "      <th>month</th>\n",
       "      <th>duration</th>\n",
       "      <th>campaign</th>\n",
       "      <th>pdays</th>\n",
       "      <th>previous</th>\n",
       "      <th>poutcome</th>\n",
       "    </tr>\n",
       "  </thead>\n",
       "  <tbody>\n",
       "    <tr>\n",
       "      <td>0</td>\n",
       "      <td>-0.182764</td>\n",
       "      <td>7.0</td>\n",
       "      <td>1.0</td>\n",
       "      <td>1.0</td>\n",
       "      <td>0.0</td>\n",
       "      <td>0.804030</td>\n",
       "      <td>1.0</td>\n",
       "      <td>0.0</td>\n",
       "      <td>0.0</td>\n",
       "      <td>0.504717</td>\n",
       "      <td>0.0</td>\n",
       "      <td>-0.718420</td>\n",
       "      <td>-0.568359</td>\n",
       "      <td>-0.411313</td>\n",
       "      <td>-0.239065</td>\n",
       "      <td>3.0</td>\n",
       "    </tr>\n",
       "    <tr>\n",
       "      <td>1</td>\n",
       "      <td>-0.937547</td>\n",
       "      <td>4.0</td>\n",
       "      <td>2.0</td>\n",
       "      <td>2.0</td>\n",
       "      <td>0.0</td>\n",
       "      <td>-0.097112</td>\n",
       "      <td>1.0</td>\n",
       "      <td>0.0</td>\n",
       "      <td>1.0</td>\n",
       "      <td>1.586706</td>\n",
       "      <td>4.0</td>\n",
       "      <td>-0.679683</td>\n",
       "      <td>-0.568359</td>\n",
       "      <td>-0.411313</td>\n",
       "      <td>-0.239065</td>\n",
       "      <td>3.0</td>\n",
       "    </tr>\n",
       "    <tr>\n",
       "      <td>2</td>\n",
       "      <td>-0.465807</td>\n",
       "      <td>0.0</td>\n",
       "      <td>2.0</td>\n",
       "      <td>1.0</td>\n",
       "      <td>0.0</td>\n",
       "      <td>-0.157360</td>\n",
       "      <td>1.0</td>\n",
       "      <td>1.0</td>\n",
       "      <td>0.0</td>\n",
       "      <td>-0.216609</td>\n",
       "      <td>8.0</td>\n",
       "      <td>0.404962</td>\n",
       "      <td>1.050204</td>\n",
       "      <td>-0.411313</td>\n",
       "      <td>-0.239065</td>\n",
       "      <td>3.0</td>\n",
       "    </tr>\n",
       "    <tr>\n",
       "      <td>3</td>\n",
       "      <td>-2.069721</td>\n",
       "      <td>8.0</td>\n",
       "      <td>2.0</td>\n",
       "      <td>1.0</td>\n",
       "      <td>0.0</td>\n",
       "      <td>-0.315873</td>\n",
       "      <td>0.0</td>\n",
       "      <td>0.0</td>\n",
       "      <td>0.0</td>\n",
       "      <td>-1.298599</td>\n",
       "      <td>0.0</td>\n",
       "      <td>0.269381</td>\n",
       "      <td>0.079067</td>\n",
       "      <td>-0.411313</td>\n",
       "      <td>-0.239065</td>\n",
       "      <td>3.0</td>\n",
       "    </tr>\n",
       "    <tr>\n",
       "      <td>4</td>\n",
       "      <td>0.383324</td>\n",
       "      <td>3.0</td>\n",
       "      <td>1.0</td>\n",
       "      <td>2.0</td>\n",
       "      <td>0.0</td>\n",
       "      <td>-0.442812</td>\n",
       "      <td>0.0</td>\n",
       "      <td>0.0</td>\n",
       "      <td>2.0</td>\n",
       "      <td>-0.817714</td>\n",
       "      <td>6.0</td>\n",
       "      <td>-0.609956</td>\n",
       "      <td>-0.568359</td>\n",
       "      <td>-0.411313</td>\n",
       "      <td>-0.239065</td>\n",
       "      <td>3.0</td>\n",
       "    </tr>\n",
       "    <tr>\n",
       "      <td>...</td>\n",
       "      <td>...</td>\n",
       "      <td>...</td>\n",
       "      <td>...</td>\n",
       "      <td>...</td>\n",
       "      <td>...</td>\n",
       "      <td>...</td>\n",
       "      <td>...</td>\n",
       "      <td>...</td>\n",
       "      <td>...</td>\n",
       "      <td>...</td>\n",
       "      <td>...</td>\n",
       "      <td>...</td>\n",
       "      <td>...</td>\n",
       "      <td>...</td>\n",
       "      <td>...</td>\n",
       "      <td>...</td>\n",
       "    </tr>\n",
       "    <tr>\n",
       "      <td>33903</td>\n",
       "      <td>-0.560155</td>\n",
       "      <td>4.0</td>\n",
       "      <td>2.0</td>\n",
       "      <td>2.0</td>\n",
       "      <td>0.0</td>\n",
       "      <td>-0.122242</td>\n",
       "      <td>0.0</td>\n",
       "      <td>0.0</td>\n",
       "      <td>0.0</td>\n",
       "      <td>-1.298599</td>\n",
       "      <td>3.0</td>\n",
       "      <td>-0.846253</td>\n",
       "      <td>-0.568359</td>\n",
       "      <td>-0.411313</td>\n",
       "      <td>-0.239065</td>\n",
       "      <td>3.0</td>\n",
       "    </tr>\n",
       "    <tr>\n",
       "      <td>33904</td>\n",
       "      <td>-0.560155</td>\n",
       "      <td>4.0</td>\n",
       "      <td>1.0</td>\n",
       "      <td>2.0</td>\n",
       "      <td>0.0</td>\n",
       "      <td>-0.201176</td>\n",
       "      <td>1.0</td>\n",
       "      <td>0.0</td>\n",
       "      <td>0.0</td>\n",
       "      <td>0.264275</td>\n",
       "      <td>1.0</td>\n",
       "      <td>-0.094749</td>\n",
       "      <td>2.992479</td>\n",
       "      <td>-0.411313</td>\n",
       "      <td>-0.239065</td>\n",
       "      <td>3.0</td>\n",
       "    </tr>\n",
       "    <tr>\n",
       "      <td>33905</td>\n",
       "      <td>-0.560155</td>\n",
       "      <td>4.0</td>\n",
       "      <td>1.0</td>\n",
       "      <td>2.0</td>\n",
       "      <td>0.0</td>\n",
       "      <td>-0.338748</td>\n",
       "      <td>0.0</td>\n",
       "      <td>0.0</td>\n",
       "      <td>0.0</td>\n",
       "      <td>-0.577272</td>\n",
       "      <td>4.0</td>\n",
       "      <td>0.013715</td>\n",
       "      <td>-0.244646</td>\n",
       "      <td>-0.411313</td>\n",
       "      <td>-0.239065</td>\n",
       "      <td>3.0</td>\n",
       "    </tr>\n",
       "    <tr>\n",
       "      <td>33906</td>\n",
       "      <td>2.742021</td>\n",
       "      <td>5.0</td>\n",
       "      <td>1.0</td>\n",
       "      <td>1.0</td>\n",
       "      <td>0.0</td>\n",
       "      <td>-0.244349</td>\n",
       "      <td>0.0</td>\n",
       "      <td>0.0</td>\n",
       "      <td>0.0</td>\n",
       "      <td>1.346264</td>\n",
       "      <td>0.0</td>\n",
       "      <td>-0.420143</td>\n",
       "      <td>-0.244646</td>\n",
       "      <td>1.414717</td>\n",
       "      <td>0.169206</td>\n",
       "      <td>0.0</td>\n",
       "    </tr>\n",
       "    <tr>\n",
       "      <td>33907</td>\n",
       "      <td>0.477672</td>\n",
       "      <td>1.0</td>\n",
       "      <td>2.0</td>\n",
       "      <td>1.0</td>\n",
       "      <td>0.0</td>\n",
       "      <td>-0.424448</td>\n",
       "      <td>1.0</td>\n",
       "      <td>0.0</td>\n",
       "      <td>2.0</td>\n",
       "      <td>-0.216609</td>\n",
       "      <td>8.0</td>\n",
       "      <td>-0.245825</td>\n",
       "      <td>0.402779</td>\n",
       "      <td>-0.411313</td>\n",
       "      <td>-0.239065</td>\n",
       "      <td>3.0</td>\n",
       "    </tr>\n",
       "  </tbody>\n",
       "</table>\n",
       "<p>33908 rows × 16 columns</p>\n",
       "</div>"
      ],
      "text/plain": [
       "            age  job  marital  education  default   balance  housing  loan  \\\n",
       "0     -0.182764  7.0      1.0        1.0      0.0  0.804030      1.0   0.0   \n",
       "1     -0.937547  4.0      2.0        2.0      0.0 -0.097112      1.0   0.0   \n",
       "2     -0.465807  0.0      2.0        1.0      0.0 -0.157360      1.0   1.0   \n",
       "3     -2.069721  8.0      2.0        1.0      0.0 -0.315873      0.0   0.0   \n",
       "4      0.383324  3.0      1.0        2.0      0.0 -0.442812      0.0   0.0   \n",
       "...         ...  ...      ...        ...      ...       ...      ...   ...   \n",
       "33903 -0.560155  4.0      2.0        2.0      0.0 -0.122242      0.0   0.0   \n",
       "33904 -0.560155  4.0      1.0        2.0      0.0 -0.201176      1.0   0.0   \n",
       "33905 -0.560155  4.0      1.0        2.0      0.0 -0.338748      0.0   0.0   \n",
       "33906  2.742021  5.0      1.0        1.0      0.0 -0.244349      0.0   0.0   \n",
       "33907  0.477672  1.0      2.0        1.0      0.0 -0.424448      1.0   0.0   \n",
       "\n",
       "       contact       day  month  duration  campaign     pdays  previous  \\\n",
       "0          0.0  0.504717    0.0 -0.718420 -0.568359 -0.411313 -0.239065   \n",
       "1          1.0  1.586706    4.0 -0.679683 -0.568359 -0.411313 -0.239065   \n",
       "2          0.0 -0.216609    8.0  0.404962  1.050204 -0.411313 -0.239065   \n",
       "3          0.0 -1.298599    0.0  0.269381  0.079067 -0.411313 -0.239065   \n",
       "4          2.0 -0.817714    6.0 -0.609956 -0.568359 -0.411313 -0.239065   \n",
       "...        ...       ...    ...       ...       ...       ...       ...   \n",
       "33903      0.0 -1.298599    3.0 -0.846253 -0.568359 -0.411313 -0.239065   \n",
       "33904      0.0  0.264275    1.0 -0.094749  2.992479 -0.411313 -0.239065   \n",
       "33905      0.0 -0.577272    4.0  0.013715 -0.244646 -0.411313 -0.239065   \n",
       "33906      0.0  1.346264    0.0 -0.420143 -0.244646  1.414717  0.169206   \n",
       "33907      2.0 -0.216609    8.0 -0.245825  0.402779 -0.411313 -0.239065   \n",
       "\n",
       "       poutcome  \n",
       "0           3.0  \n",
       "1           3.0  \n",
       "2           3.0  \n",
       "3           3.0  \n",
       "4           3.0  \n",
       "...         ...  \n",
       "33903       3.0  \n",
       "33904       3.0  \n",
       "33905       3.0  \n",
       "33906       0.0  \n",
       "33907       3.0  \n",
       "\n",
       "[33908 rows x 16 columns]"
      ]
     },
     "execution_count": 9,
     "metadata": {},
     "output_type": "execute_result"
    }
   ],
   "source": [
    "train_X"
   ]
  },
  {
   "cell_type": "code",
   "execution_count": 10,
   "metadata": {},
   "outputs": [
    {
     "data": {
      "text/plain": [
       "array([0, 0, 0, ..., 1, 0, 0], dtype=int64)"
      ]
     },
     "execution_count": 10,
     "metadata": {},
     "output_type": "execute_result"
    }
   ],
   "source": [
    "train_y"
   ]
  },
  {
   "cell_type": "code",
   "execution_count": 11,
   "metadata": {},
   "outputs": [
    {
     "data": {
      "text/html": [
       "<div>\n",
       "<style scoped>\n",
       "    .dataframe tbody tr th:only-of-type {\n",
       "        vertical-align: middle;\n",
       "    }\n",
       "\n",
       "    .dataframe tbody tr th {\n",
       "        vertical-align: top;\n",
       "    }\n",
       "\n",
       "    .dataframe thead th {\n",
       "        text-align: right;\n",
       "    }\n",
       "</style>\n",
       "<table border=\"1\" class=\"dataframe\">\n",
       "  <thead>\n",
       "    <tr style=\"text-align: right;\">\n",
       "      <th></th>\n",
       "      <th>age</th>\n",
       "      <th>job</th>\n",
       "      <th>marital</th>\n",
       "      <th>education</th>\n",
       "      <th>default</th>\n",
       "      <th>balance</th>\n",
       "      <th>housing</th>\n",
       "      <th>loan</th>\n",
       "      <th>contact</th>\n",
       "      <th>day</th>\n",
       "      <th>month</th>\n",
       "      <th>duration</th>\n",
       "      <th>campaign</th>\n",
       "      <th>pdays</th>\n",
       "      <th>previous</th>\n",
       "      <th>poutcome</th>\n",
       "    </tr>\n",
       "  </thead>\n",
       "  <tbody>\n",
       "    <tr>\n",
       "      <td>0</td>\n",
       "      <td>-0.371459</td>\n",
       "      <td>4.0</td>\n",
       "      <td>1.0</td>\n",
       "      <td>2.0</td>\n",
       "      <td>0.0</td>\n",
       "      <td>0.009208</td>\n",
       "      <td>1.0</td>\n",
       "      <td>0.0</td>\n",
       "      <td>0.0</td>\n",
       "      <td>-0.697493</td>\n",
       "      <td>5.0</td>\n",
       "      <td>-0.644819</td>\n",
       "      <td>3.963617</td>\n",
       "      <td>-0.411313</td>\n",
       "      <td>-0.239065</td>\n",
       "      <td>3.0</td>\n",
       "    </tr>\n",
       "    <tr>\n",
       "      <td>1</td>\n",
       "      <td>-0.465807</td>\n",
       "      <td>7.0</td>\n",
       "      <td>2.0</td>\n",
       "      <td>1.0</td>\n",
       "      <td>0.0</td>\n",
       "      <td>-0.524324</td>\n",
       "      <td>1.0</td>\n",
       "      <td>0.0</td>\n",
       "      <td>0.0</td>\n",
       "      <td>-0.216609</td>\n",
       "      <td>0.0</td>\n",
       "      <td>3.159185</td>\n",
       "      <td>-0.568359</td>\n",
       "      <td>-0.411313</td>\n",
       "      <td>-0.239065</td>\n",
       "      <td>3.0</td>\n",
       "    </tr>\n",
       "    <tr>\n",
       "      <td>2</td>\n",
       "      <td>0.572020</td>\n",
       "      <td>1.0</td>\n",
       "      <td>1.0</td>\n",
       "      <td>0.0</td>\n",
       "      <td>0.0</td>\n",
       "      <td>-0.573618</td>\n",
       "      <td>0.0</td>\n",
       "      <td>1.0</td>\n",
       "      <td>1.0</td>\n",
       "      <td>-0.937935</td>\n",
       "      <td>5.0</td>\n",
       "      <td>-0.056012</td>\n",
       "      <td>0.726492</td>\n",
       "      <td>-0.411313</td>\n",
       "      <td>-0.239065</td>\n",
       "      <td>3.0</td>\n",
       "    </tr>\n",
       "    <tr>\n",
       "      <td>3</td>\n",
       "      <td>1.515498</td>\n",
       "      <td>3.0</td>\n",
       "      <td>1.0</td>\n",
       "      <td>0.0</td>\n",
       "      <td>0.0</td>\n",
       "      <td>-0.281400</td>\n",
       "      <td>1.0</td>\n",
       "      <td>1.0</td>\n",
       "      <td>0.0</td>\n",
       "      <td>-0.577272</td>\n",
       "      <td>3.0</td>\n",
       "      <td>-0.590587</td>\n",
       "      <td>1.373917</td>\n",
       "      <td>1.474587</td>\n",
       "      <td>0.577478</td>\n",
       "      <td>0.0</td>\n",
       "    </tr>\n",
       "    <tr>\n",
       "      <td>4</td>\n",
       "      <td>-0.748851</td>\n",
       "      <td>1.0</td>\n",
       "      <td>1.0</td>\n",
       "      <td>1.0</td>\n",
       "      <td>1.0</td>\n",
       "      <td>-0.573618</td>\n",
       "      <td>1.0</td>\n",
       "      <td>1.0</td>\n",
       "      <td>0.0</td>\n",
       "      <td>-0.216609</td>\n",
       "      <td>5.0</td>\n",
       "      <td>0.288750</td>\n",
       "      <td>-0.244646</td>\n",
       "      <td>-0.411313</td>\n",
       "      <td>-0.239065</td>\n",
       "      <td>3.0</td>\n",
       "    </tr>\n",
       "    <tr>\n",
       "      <td>...</td>\n",
       "      <td>...</td>\n",
       "      <td>...</td>\n",
       "      <td>...</td>\n",
       "      <td>...</td>\n",
       "      <td>...</td>\n",
       "      <td>...</td>\n",
       "      <td>...</td>\n",
       "      <td>...</td>\n",
       "      <td>...</td>\n",
       "      <td>...</td>\n",
       "      <td>...</td>\n",
       "      <td>...</td>\n",
       "      <td>...</td>\n",
       "      <td>...</td>\n",
       "      <td>...</td>\n",
       "      <td>...</td>\n",
       "    </tr>\n",
       "    <tr>\n",
       "      <td>11298</td>\n",
       "      <td>-0.371459</td>\n",
       "      <td>0.0</td>\n",
       "      <td>1.0</td>\n",
       "      <td>0.0</td>\n",
       "      <td>0.0</td>\n",
       "      <td>0.817884</td>\n",
       "      <td>1.0</td>\n",
       "      <td>0.0</td>\n",
       "      <td>2.0</td>\n",
       "      <td>-0.817714</td>\n",
       "      <td>6.0</td>\n",
       "      <td>-0.702925</td>\n",
       "      <td>-0.244646</td>\n",
       "      <td>-0.411313</td>\n",
       "      <td>-0.239065</td>\n",
       "      <td>3.0</td>\n",
       "    </tr>\n",
       "    <tr>\n",
       "      <td>11299</td>\n",
       "      <td>-0.465807</td>\n",
       "      <td>7.0</td>\n",
       "      <td>2.0</td>\n",
       "      <td>1.0</td>\n",
       "      <td>0.0</td>\n",
       "      <td>-0.528835</td>\n",
       "      <td>1.0</td>\n",
       "      <td>0.0</td>\n",
       "      <td>0.0</td>\n",
       "      <td>-0.216609</td>\n",
       "      <td>8.0</td>\n",
       "      <td>-0.613829</td>\n",
       "      <td>1.373917</td>\n",
       "      <td>3.111030</td>\n",
       "      <td>0.169206</td>\n",
       "      <td>0.0</td>\n",
       "    </tr>\n",
       "    <tr>\n",
       "      <td>11300</td>\n",
       "      <td>-0.371459</td>\n",
       "      <td>6.0</td>\n",
       "      <td>1.0</td>\n",
       "      <td>0.0</td>\n",
       "      <td>0.0</td>\n",
       "      <td>-0.442812</td>\n",
       "      <td>0.0</td>\n",
       "      <td>0.0</td>\n",
       "      <td>2.0</td>\n",
       "      <td>-1.058156</td>\n",
       "      <td>8.0</td>\n",
       "      <td>-0.563471</td>\n",
       "      <td>0.402779</td>\n",
       "      <td>-0.411313</td>\n",
       "      <td>-0.239065</td>\n",
       "      <td>3.0</td>\n",
       "    </tr>\n",
       "    <tr>\n",
       "      <td>11301</td>\n",
       "      <td>0.005932</td>\n",
       "      <td>4.0</td>\n",
       "      <td>1.0</td>\n",
       "      <td>2.0</td>\n",
       "      <td>0.0</td>\n",
       "      <td>-0.237905</td>\n",
       "      <td>1.0</td>\n",
       "      <td>0.0</td>\n",
       "      <td>1.0</td>\n",
       "      <td>1.706927</td>\n",
       "      <td>5.0</td>\n",
       "      <td>-0.687430</td>\n",
       "      <td>-0.244646</td>\n",
       "      <td>-0.411313</td>\n",
       "      <td>-0.239065</td>\n",
       "      <td>3.0</td>\n",
       "    </tr>\n",
       "    <tr>\n",
       "      <td>11302</td>\n",
       "      <td>0.760715</td>\n",
       "      <td>4.0</td>\n",
       "      <td>1.0</td>\n",
       "      <td>2.0</td>\n",
       "      <td>0.0</td>\n",
       "      <td>1.087872</td>\n",
       "      <td>0.0</td>\n",
       "      <td>0.0</td>\n",
       "      <td>0.0</td>\n",
       "      <td>-0.457051</td>\n",
       "      <td>1.0</td>\n",
       "      <td>2.427049</td>\n",
       "      <td>0.402779</td>\n",
       "      <td>-0.411313</td>\n",
       "      <td>-0.239065</td>\n",
       "      <td>3.0</td>\n",
       "    </tr>\n",
       "  </tbody>\n",
       "</table>\n",
       "<p>11303 rows × 16 columns</p>\n",
       "</div>"
      ],
      "text/plain": [
       "            age  job  marital  education  default   balance  housing  loan  \\\n",
       "0     -0.371459  4.0      1.0        2.0      0.0  0.009208      1.0   0.0   \n",
       "1     -0.465807  7.0      2.0        1.0      0.0 -0.524324      1.0   0.0   \n",
       "2      0.572020  1.0      1.0        0.0      0.0 -0.573618      0.0   1.0   \n",
       "3      1.515498  3.0      1.0        0.0      0.0 -0.281400      1.0   1.0   \n",
       "4     -0.748851  1.0      1.0        1.0      1.0 -0.573618      1.0   1.0   \n",
       "...         ...  ...      ...        ...      ...       ...      ...   ...   \n",
       "11298 -0.371459  0.0      1.0        0.0      0.0  0.817884      1.0   0.0   \n",
       "11299 -0.465807  7.0      2.0        1.0      0.0 -0.528835      1.0   0.0   \n",
       "11300 -0.371459  6.0      1.0        0.0      0.0 -0.442812      0.0   0.0   \n",
       "11301  0.005932  4.0      1.0        2.0      0.0 -0.237905      1.0   0.0   \n",
       "11302  0.760715  4.0      1.0        2.0      0.0  1.087872      0.0   0.0   \n",
       "\n",
       "       contact       day  month  duration  campaign     pdays  previous  \\\n",
       "0          0.0 -0.697493    5.0 -0.644819  3.963617 -0.411313 -0.239065   \n",
       "1          0.0 -0.216609    0.0  3.159185 -0.568359 -0.411313 -0.239065   \n",
       "2          1.0 -0.937935    5.0 -0.056012  0.726492 -0.411313 -0.239065   \n",
       "3          0.0 -0.577272    3.0 -0.590587  1.373917  1.474587  0.577478   \n",
       "4          0.0 -0.216609    5.0  0.288750 -0.244646 -0.411313 -0.239065   \n",
       "...        ...       ...    ...       ...       ...       ...       ...   \n",
       "11298      2.0 -0.817714    6.0 -0.702925 -0.244646 -0.411313 -0.239065   \n",
       "11299      0.0 -0.216609    8.0 -0.613829  1.373917  3.111030  0.169206   \n",
       "11300      2.0 -1.058156    8.0 -0.563471  0.402779 -0.411313 -0.239065   \n",
       "11301      1.0  1.706927    5.0 -0.687430 -0.244646 -0.411313 -0.239065   \n",
       "11302      0.0 -0.457051    1.0  2.427049  0.402779 -0.411313 -0.239065   \n",
       "\n",
       "       poutcome  \n",
       "0           3.0  \n",
       "1           3.0  \n",
       "2           3.0  \n",
       "3           0.0  \n",
       "4           3.0  \n",
       "...         ...  \n",
       "11298       3.0  \n",
       "11299       0.0  \n",
       "11300       3.0  \n",
       "11301       3.0  \n",
       "11302       3.0  \n",
       "\n",
       "[11303 rows x 16 columns]"
      ]
     },
     "execution_count": 11,
     "metadata": {},
     "output_type": "execute_result"
    }
   ],
   "source": [
    "test_X"
   ]
  },
  {
   "cell_type": "code",
   "execution_count": 12,
   "metadata": {},
   "outputs": [
    {
     "data": {
      "text/plain": [
       "array([0, 1, 0, ..., 0, 0, 1], dtype=int64)"
      ]
     },
     "execution_count": 12,
     "metadata": {},
     "output_type": "execute_result"
    }
   ],
   "source": [
    "test_y"
   ]
  },
  {
   "cell_type": "markdown",
   "metadata": {},
   "source": [
    "## Trainer Function:"
   ]
  },
  {
   "cell_type": "markdown",
   "metadata": {},
   "source": [
    "## Trying with few models:"
   ]
  },
  {
   "cell_type": "markdown",
   "metadata": {},
   "source": [
    "## Training with KNN ALgorithm:"
   ]
  },
  {
   "cell_type": "code",
   "execution_count": 13,
   "metadata": {},
   "outputs": [
    {
     "name": "stdout",
     "output_type": "stream",
     "text": [
      "Accuracy Score with training data: \n",
      "0.9135897133419842\n",
      "Accuracy Score with testing data: \n",
      "0.8968415464920817\n",
      "Confusion Matrix:\n",
      "[[9760  218]\n",
      " [ 948  377]]\n",
      "Precision:\n",
      "0.6336134453781512\n",
      "Recall: \n",
      "0.28452830188679246\n",
      "F1 score:\n",
      "0.3927083333333333\n"
     ]
    }
   ],
   "source": [
    "n_neighbors = 9\n",
    "clf2 = neighbors.KNeighborsClassifier(n_neighbors)\n",
    "clf2.fit(train_X, train_y)\n",
    "print(\"Accuracy Score with training data: \")\n",
    "print(accuracy_score(train_y, clf2.predict(train_X)))\n",
    "    \n",
    "y_pred2=clf2.predict(test_X)\n",
    "print(\"Accuracy Score with testing data: \")\n",
    "print(accuracy_score(test_y, y_pred2))\n",
    "\n",
    "    \n",
    "print(\"Confusion Matrix:\")\n",
    "print(confusion_matrix(test_y,y_pred2))\n",
    "    \n",
    "print(\"Precision:\")\n",
    "print(precision_score(test_y,y_pred2) )\n",
    "\n",
    "print(\"Recall: \")\n",
    "print(recall_score(test_y,y_pred2) )\n",
    "\n",
    "print(\"F1 score:\")\n",
    "print(f1_score(test_y,y_pred2) )"
   ]
  },
  {
   "cell_type": "markdown",
   "metadata": {},
   "source": [
    "## Training with Random Forest Model:"
   ]
  },
  {
   "cell_type": "code",
   "execution_count": 14,
   "metadata": {},
   "outputs": [
    {
     "name": "stdout",
     "output_type": "stream",
     "text": [
      "Accuracy Score with training data: \n",
      "0.9154476819629586\n",
      "Accuracy Score with testing data: \n",
      "0.8928603025745377\n",
      "Confusion Matrix:\n",
      "[[9652  326]\n",
      " [ 885  440]]\n",
      "Precision:\n",
      "0.5744125326370757\n",
      "Recall: \n",
      "0.3320754716981132\n",
      "F1 score:\n",
      "0.42085126733620276\n"
     ]
    }
   ],
   "source": [
    "#Random Forest-The main model\n",
    "clf3 = RandomForestClassifier(n_estimators=2, max_depth=10,\n",
    "            min_samples_split=2, random_state=0)\n",
    "\n",
    "clf3 = clf3.fit(train_X, train_y)\n",
    "\n",
    "print(\"Accuracy Score with training data: \")\n",
    "print(accuracy_score(train_y, clf3.predict(train_X)))\n",
    "\n",
    "\n",
    "y_pred3=clf3.predict(test_X)\n",
    "\n",
    "print(\"Accuracy Score with testing data: \")\n",
    "print(accuracy_score(test_y, y_pred3))\n",
    "\n",
    "\n",
    "print(\"Confusion Matrix:\")\n",
    "print(confusion_matrix(test_y,y_pred3))\n",
    "\n",
    "print(\"Precision:\")\n",
    "print(precision_score(test_y,y_pred3) )\n",
    "\n",
    "print(\"Recall: \")\n",
    "print(recall_score(test_y,y_pred3) )\n",
    "\n",
    "print(\"F1 score:\")\n",
    "print(f1_score(test_y,y_pred3) )"
   ]
  },
  {
   "cell_type": "markdown",
   "metadata": {},
   "source": [
    "## Training with Decision Tree Classifier:"
   ]
  },
  {
   "cell_type": "code",
   "execution_count": 15,
   "metadata": {},
   "outputs": [
    {
     "name": "stdout",
     "output_type": "stream",
     "text": [
      "Accuracy Score with training data: \n",
      "0.912056151940545\n",
      "Accuracy Score with testing data: \n",
      "0.90020348580023\n",
      "Confusion Matrix:\n",
      "[[9594  384]\n",
      " [ 744  581]]\n",
      "Precision:\n",
      "0.6020725388601036\n",
      "Recall: \n",
      "0.43849056603773584\n",
      "F1 score:\n",
      "0.5074235807860261\n"
     ]
    }
   ],
   "source": [
    "clf1 = DecisionTreeClassifier(criterion = 'entropy', max_depth = 8,random_state=1).fit(train_X, train_y)\n",
    "    \n",
    "print(\"Accuracy Score with training data: \")\n",
    "print(accuracy_score(train_y, clf1.predict(train_X)))\n",
    "\n",
    "y_pred1=clf1.predict(test_X)\n",
    "print(\"Accuracy Score with testing data: \")\n",
    "print(accuracy_score(test_y, y_pred1))\n",
    "\n",
    "print(\"Confusion Matrix:\")\n",
    "print(confusion_matrix(test_y,y_pred1))\n",
    "\n",
    "print(\"Precision:\")\n",
    "print(precision_score(test_y,y_pred1) )\n",
    "\n",
    "print(\"Recall: \")\n",
    "print(recall_score(test_y,y_pred1) )\n",
    "\n",
    "print(\"F1 score:\")\n",
    "print(f1_score(test_y,y_pred1) )"
   ]
  },
  {
   "cell_type": "markdown",
   "metadata": {},
   "source": [
    " We have compared accuracy and other scores with three models and we came to know that Decision Tree looks better than other two algorithm , So we train our model based on Decision Tree."
   ]
  },
  {
   "cell_type": "markdown",
   "metadata": {},
   "source": [
    "## Final Trainer Function:"
   ]
  },
  {
   "cell_type": "code",
   "execution_count": 16,
   "metadata": {},
   "outputs": [],
   "source": [
    "def trainer(train_X,train_y):\n",
    "    clf1 = DecisionTreeClassifier(criterion = 'entropy', max_depth = 8,random_state=1).fit(train_X, train_y)  \n",
    "    print(\"Accuracy Score with training data: \")\n",
    "    print(accuracy_score(train_y, clf1.predict(train_X)))\n",
    "    return(clf1)\n"
   ]
  },
  {
   "cell_type": "markdown",
   "metadata": {},
   "source": [
    "## Tester Function:"
   ]
  },
  {
   "cell_type": "code",
   "execution_count": 17,
   "metadata": {},
   "outputs": [],
   "source": [
    "def tester(test_X,test_y,model):\n",
    "    y_pred = model.predict(test_X)\n",
    "    print(\"Accuracy Score with testing data: \")\n",
    "    print(accuracy_score(test_y,y_pred))\n",
    "    con_mat = confusion_matrix(test_y,y_pred)\n",
    "    sns.heatmap(con_mat/np.sum(con_mat),fmt='.2%',annot=True,cmap=\"Blues\",center=1)\n",
    "    print(\"Precision:\")\n",
    "    print(precision_score(test_y,y_pred))\n",
    "    print(\"Recall: \")\n",
    "    print(recall_score(test_y,y_pred))\n",
    "    print(\"F1 score:\")\n",
    "    print(f1_score(test_y,y_pred))\n"
   ]
  },
  {
   "cell_type": "code",
   "execution_count": 18,
   "metadata": {},
   "outputs": [
    {
     "name": "stdout",
     "output_type": "stream",
     "text": [
      "Accuracy Score with training data: \n",
      "0.912056151940545\n"
     ]
    }
   ],
   "source": [
    "model = trainer(train_X,train_y)"
   ]
  },
  {
   "cell_type": "code",
   "execution_count": 19,
   "metadata": {},
   "outputs": [
    {
     "name": "stdout",
     "output_type": "stream",
     "text": [
      "Accuracy Score with testing data: \n",
      "0.912056151940545\n",
      "Precision:\n",
      "0.6778985507246377\n",
      "Recall: \n",
      "0.47199798183652875\n",
      "F1 score:\n",
      "0.5565139797739441\n"
     ]
    },
    {
     "data": {
      "image/png": "[encoded data removed]",
      "text/plain": [
       "<Figure size 432x288 with 2 Axes>"
      ]
     },
     "metadata": {
      "needs_background": "light"
     },
     "output_type": "display_data"
    }
   ],
   "source": [
    "tester(train_X,train_y,model)"
   ]
  },
  {
   "cell_type": "code",
   "execution_count": null,
   "metadata": {},
   "outputs": [],
   "source": []
  },
  {
   "cell_type": "code",
   "execution_count": null,
   "metadata": {},
   "outputs": [],
   "source": []
  }
 ],
 "metadata": {
  "kernelspec": {
   "display_name": "Python 3",
   "language": "python",
   "name": "python3"
  },
  "language_info": {
   "codemirror_mode": {
    "name": "ipython",
    "version": 3
   },
   "file_extension": ".py",
   "mimetype": "text/x-python",
   "name": "python",
   "nbconvert_exporter": "python",
   "pygments_lexer": "ipython3",
   "version": "3.7.4"
  }
 },
 "nbformat": 4,
 "nbformat_minor": 2
}
